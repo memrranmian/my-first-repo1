{
  "nbformat": 4,
  "nbformat_minor": 0,
  "metadata": {
    "colab": {
      "provenance": [],
      "authorship_tag": "ABX9TyMk/uZAwxO/rUwyTOQGP/ms",
      "include_colab_link": true
    },
    "kernelspec": {
      "name": "python3",
      "display_name": "Python 3"
    },
    "language_info": {
      "name": "python"
    }
  },
  "cells": [
    {
      "cell_type": "markdown",
      "metadata": {
        "id": "view-in-github",
        "colab_type": "text"
      },
      "source": [
        "<a href=\"https://colab.research.google.com/github/memrranmian/my-first-repo1/blob/main/ai_navtcc_navtcc_lab8_lec12.ipynb\" target=\"_parent\"><img src=\"https://colab.research.google.com/assets/colab-badge.svg\" alt=\"Open In Colab\"/></a>"
      ]
    },
    {
      "cell_type": "code",
      "execution_count": 3,
      "metadata": {
        "colab": {
          "base_uri": "https://localhost:8080/",
          "height": 360
        },
        "id": "8-ivsRRBqpik",
        "outputId": "4396efbd-6b1d-43ab-fc01-8644a0d6a3a9"
      },
      "outputs": [
        {
          "output_type": "display_data",
          "data": {
            "text/plain": [
              "<IPython.core.display.HTML object>"
            ],
            "text/html": [
              "\n",
              "     <input type=\"file\" id=\"files-1257f9b5-11d5-4823-b72e-50ce523781ef\" name=\"files[]\" multiple disabled\n",
              "        style=\"border:none\" />\n",
              "     <output id=\"result-1257f9b5-11d5-4823-b72e-50ce523781ef\">\n",
              "      Upload widget is only available when the cell has been executed in the\n",
              "      current browser session. Please rerun this cell to enable.\n",
              "      </output>\n",
              "      <script>// Copyright 2017 Google LLC\n",
              "//\n",
              "// Licensed under the Apache License, Version 2.0 (the \"License\");\n",
              "// you may not use this file except in compliance with the License.\n",
              "// You may obtain a copy of the License at\n",
              "//\n",
              "//      http://www.apache.org/licenses/LICENSE-2.0\n",
              "//\n",
              "// Unless required by applicable law or agreed to in writing, software\n",
              "// distributed under the License is distributed on an \"AS IS\" BASIS,\n",
              "// WITHOUT WARRANTIES OR CONDITIONS OF ANY KIND, either express or implied.\n",
              "// See the License for the specific language governing permissions and\n",
              "// limitations under the License.\n",
              "\n",
              "/**\n",
              " * @fileoverview Helpers for google.colab Python module.\n",
              " */\n",
              "(function(scope) {\n",
              "function span(text, styleAttributes = {}) {\n",
              "  const element = document.createElement('span');\n",
              "  element.textContent = text;\n",
              "  for (const key of Object.keys(styleAttributes)) {\n",
              "    element.style[key] = styleAttributes[key];\n",
              "  }\n",
              "  return element;\n",
              "}\n",
              "\n",
              "// Max number of bytes which will be uploaded at a time.\n",
              "const MAX_PAYLOAD_SIZE = 100 * 1024;\n",
              "\n",
              "function _uploadFiles(inputId, outputId) {\n",
              "  const steps = uploadFilesStep(inputId, outputId);\n",
              "  const outputElement = document.getElementById(outputId);\n",
              "  // Cache steps on the outputElement to make it available for the next call\n",
              "  // to uploadFilesContinue from Python.\n",
              "  outputElement.steps = steps;\n",
              "\n",
              "  return _uploadFilesContinue(outputId);\n",
              "}\n",
              "\n",
              "// This is roughly an async generator (not supported in the browser yet),\n",
              "// where there are multiple asynchronous steps and the Python side is going\n",
              "// to poll for completion of each step.\n",
              "// This uses a Promise to block the python side on completion of each step,\n",
              "// then passes the result of the previous step as the input to the next step.\n",
              "function _uploadFilesContinue(outputId) {\n",
              "  const outputElement = document.getElementById(outputId);\n",
              "  const steps = outputElement.steps;\n",
              "\n",
              "  const next = steps.next(outputElement.lastPromiseValue);\n",
              "  return Promise.resolve(next.value.promise).then((value) => {\n",
              "    // Cache the last promise value to make it available to the next\n",
              "    // step of the generator.\n",
              "    outputElement.lastPromiseValue = value;\n",
              "    return next.value.response;\n",
              "  });\n",
              "}\n",
              "\n",
              "/**\n",
              " * Generator function which is called between each async step of the upload\n",
              " * process.\n",
              " * @param {string} inputId Element ID of the input file picker element.\n",
              " * @param {string} outputId Element ID of the output display.\n",
              " * @return {!Iterable<!Object>} Iterable of next steps.\n",
              " */\n",
              "function* uploadFilesStep(inputId, outputId) {\n",
              "  const inputElement = document.getElementById(inputId);\n",
              "  inputElement.disabled = false;\n",
              "\n",
              "  const outputElement = document.getElementById(outputId);\n",
              "  outputElement.innerHTML = '';\n",
              "\n",
              "  const pickedPromise = new Promise((resolve) => {\n",
              "    inputElement.addEventListener('change', (e) => {\n",
              "      resolve(e.target.files);\n",
              "    });\n",
              "  });\n",
              "\n",
              "  const cancel = document.createElement('button');\n",
              "  inputElement.parentElement.appendChild(cancel);\n",
              "  cancel.textContent = 'Cancel upload';\n",
              "  const cancelPromise = new Promise((resolve) => {\n",
              "    cancel.onclick = () => {\n",
              "      resolve(null);\n",
              "    };\n",
              "  });\n",
              "\n",
              "  // Wait for the user to pick the files.\n",
              "  const files = yield {\n",
              "    promise: Promise.race([pickedPromise, cancelPromise]),\n",
              "    response: {\n",
              "      action: 'starting',\n",
              "    }\n",
              "  };\n",
              "\n",
              "  cancel.remove();\n",
              "\n",
              "  // Disable the input element since further picks are not allowed.\n",
              "  inputElement.disabled = true;\n",
              "\n",
              "  if (!files) {\n",
              "    return {\n",
              "      response: {\n",
              "        action: 'complete',\n",
              "      }\n",
              "    };\n",
              "  }\n",
              "\n",
              "  for (const file of files) {\n",
              "    const li = document.createElement('li');\n",
              "    li.append(span(file.name, {fontWeight: 'bold'}));\n",
              "    li.append(span(\n",
              "        `(${file.type || 'n/a'}) - ${file.size} bytes, ` +\n",
              "        `last modified: ${\n",
              "            file.lastModifiedDate ? file.lastModifiedDate.toLocaleDateString() :\n",
              "                                    'n/a'} - `));\n",
              "    const percent = span('0% done');\n",
              "    li.appendChild(percent);\n",
              "\n",
              "    outputElement.appendChild(li);\n",
              "\n",
              "    const fileDataPromise = new Promise((resolve) => {\n",
              "      const reader = new FileReader();\n",
              "      reader.onload = (e) => {\n",
              "        resolve(e.target.result);\n",
              "      };\n",
              "      reader.readAsArrayBuffer(file);\n",
              "    });\n",
              "    // Wait for the data to be ready.\n",
              "    let fileData = yield {\n",
              "      promise: fileDataPromise,\n",
              "      response: {\n",
              "        action: 'continue',\n",
              "      }\n",
              "    };\n",
              "\n",
              "    // Use a chunked sending to avoid message size limits. See b/62115660.\n",
              "    let position = 0;\n",
              "    do {\n",
              "      const length = Math.min(fileData.byteLength - position, MAX_PAYLOAD_SIZE);\n",
              "      const chunk = new Uint8Array(fileData, position, length);\n",
              "      position += length;\n",
              "\n",
              "      const base64 = btoa(String.fromCharCode.apply(null, chunk));\n",
              "      yield {\n",
              "        response: {\n",
              "          action: 'append',\n",
              "          file: file.name,\n",
              "          data: base64,\n",
              "        },\n",
              "      };\n",
              "\n",
              "      let percentDone = fileData.byteLength === 0 ?\n",
              "          100 :\n",
              "          Math.round((position / fileData.byteLength) * 100);\n",
              "      percent.textContent = `${percentDone}% done`;\n",
              "\n",
              "    } while (position < fileData.byteLength);\n",
              "  }\n",
              "\n",
              "  // All done.\n",
              "  yield {\n",
              "    response: {\n",
              "      action: 'complete',\n",
              "    }\n",
              "  };\n",
              "}\n",
              "\n",
              "scope.google = scope.google || {};\n",
              "scope.google.colab = scope.google.colab || {};\n",
              "scope.google.colab._files = {\n",
              "  _uploadFiles,\n",
              "  _uploadFilesContinue,\n",
              "};\n",
              "})(self);\n",
              "</script> "
            ]
          },
          "metadata": {}
        },
        {
          "output_type": "stream",
          "name": "stdout",
          "text": [
            "Saving mbox.txt to mbox (1).txt\n",
            "File Handle as a Sequence\n",
            "\n",
            "A file handle open for read can be treated as a sequence of strings where each line in the file is a string in the sequence\n",
            "\n",
            "We can use the for statement to iterate through a sequence\n",
            "\n",
            "Remember - a sequence is an ordered set\n",
            "\n",
            "\n",
            "\n",
            "xfile = open('mbox.txt')\n",
            "\n",
            "for cheese in xfile:\n",
            "\n",
            "    print(cheese)\n",
            "\n"
          ]
        }
      ],
      "source": [
        "from google.colab import files\n",
        "uploaded = files.upload()\n",
        "xfile = open('mbox.txt')\n",
        "for cheese in xfile:\n",
        "    print(cheese)"
      ]
    },
    {
      "cell_type": "code",
      "source": [
        "xfile = open('mbox.txt')\n",
        "for cheese in xfile:\n",
        "    print(cheese)"
      ],
      "metadata": {
        "colab": {
          "base_uri": "https://localhost:8080/"
        },
        "id": "uNzNFXnLq_3v",
        "outputId": "df3acec9-74ca-4508-bbac-1ae9d475dfc1"
      },
      "execution_count": 2,
      "outputs": [
        {
          "output_type": "stream",
          "name": "stdout",
          "text": [
            "File Handle as a Sequence\n",
            "\n",
            "A file handle open for read can be treated as a sequence of strings where each line in the file is a string in the sequence\n",
            "\n",
            "We can use the for statement to iterate through a sequence\n",
            "\n",
            "Remember - a sequence is an ordered set\n",
            "\n",
            "\n",
            "\n",
            "xfile = open('mbox.txt')\n",
            "\n",
            "for cheese in xfile:\n",
            "\n",
            "    print(cheese)\n",
            "\n"
          ]
        }
      ]
    },
    {
      "cell_type": "code",
      "source": [
        "# example of inserting in a dictionary\n",
        "\n",
        "counts = dict()\n",
        "names = ['csev', 'cwen', 'csev', 'zqian', 'cwen']\n",
        "for name in names :\n",
        "    if name not in counts:\n",
        "       counts[name] = 1\n",
        "    else :\n",
        "        counts[name] = counts[name] + 1\n",
        "print(counts)\n"
      ],
      "metadata": {
        "colab": {
          "base_uri": "https://localhost:8080/"
        },
        "id": "WrFpgMCPuHGc",
        "outputId": "317a6e74-c1c7-4b3d-d4aa-4f56f2ffa540"
      },
      "execution_count": 4,
      "outputs": [
        {
          "output_type": "stream",
          "name": "stdout",
          "text": [
            "{'csev': 2, 'cwen': 2, 'zqian': 1}\n"
          ]
        }
      ]
    },
    {
      "cell_type": "code",
      "source": [
        "data = {\n",
        "    'ClassA': {\n",
        "        'Ali': {'age': 21, 'course': 182},\n",
        "        'Sara': {'age': 22, 'course': 181}\n",
        "    },\n",
        "    'ClassB': {\n",
        "        'Ahmed': {'age': 20, 'course': 183},\n",
        "        'Zain': {'age': 21, 'course': 185}\n",
        "    },\n",
        "    'ClassC': {\n",
        "    1: {'age': 20, 'course': 183},\n",
        "    2: {'age': 22, 'course': 186}\n",
        "    }\n",
        "}\n",
        "print(data)  #{'ClassA': {'Ali': {'age': 21, 'course': 182}, 'Sara': {'age': 22, 'course': 181}}, 'ClassB': {'Ahmed': {'age': 20, 'course': 183}, 'Zain': {'age': 21, 'course': 185}}, 'ClassC': {1: {'age': 20, 'course': 183}, 2: {'age': 22, 'course': 186}}}\n",
        "print(data['ClassA']['Ali'])  #{'age': 21, 'course': 182}\n",
        "print(data['ClassA']['Ali']['age']) #21\n",
        "print(data['ClassC'][1]['course'])  #183\n",
        "data.get('ClassA', 0)\n",
        "# print(data.get(['ClassA']['Ali'], 0))\n",
        "print(data.get('ClassA', {}).get('Ali', {}))  #{'age': 21, 'course': 182}\n",
        "print(data.get('ClassA', 0).get('Ali', {}))   #{'age': 21, 'course': 182}\n",
        "print(data.get('ClassA', {}).get('Ali', {}).get('age', 0))    #21\n",
        "print(data.get('ClassA', 0).get('Ali', 0).get('age', 0))    #21\n",
        "# data.get(ClassA, 0)\n",
        "print(data.get('Ali', 0))   #0\n",
        "print(data.get('Name', 0))  #0\n",
        "print(data.get('Name', 0))  #0\n"
      ],
      "metadata": {
        "colab": {
          "base_uri": "https://localhost:8080/"
        },
        "id": "rqFq5nNQ2JyT",
        "outputId": "2de1a4a7-5e64-48a8-95cf-6d393bfb4ae9"
      },
      "execution_count": 22,
      "outputs": [
        {
          "output_type": "stream",
          "name": "stdout",
          "text": [
            "{'ClassA': {'Ali': {'age': 21, 'course': 182}, 'Sara': {'age': 22, 'course': 181}}, 'ClassB': {'Ahmed': {'age': 20, 'course': 183}, 'Zain': {'age': 21, 'course': 185}}, 'ClassC': {1: {'age': 20, 'course': 183}, 2: {'age': 22, 'course': 186}}}\n",
            "{'age': 21, 'course': 182}\n",
            "21\n",
            "183\n",
            "{'age': 21, 'course': 182}\n",
            "{'age': 21, 'course': 182}\n",
            "21\n",
            "21\n",
            "0\n",
            "0\n",
            "0\n"
          ]
        }
      ]
    },
    {
      "cell_type": "code",
      "source": [
        "# The get Method for Dictionaries\n",
        "counts = dict()\n",
        "print('Enter a line of text:')\n",
        "line = input('')\n",
        "\n",
        "words = line.split()\n",
        "\n",
        "print('Words:', words)\n",
        "\n",
        "print('Counting...')\n",
        "for word in words:\n",
        "    counts[word] = counts.get(word,0) + 1\n",
        "print('Counts', counts)\n",
        "# totals\n",
        "total_words = len(words)                 # same as sum(counts.values())\n",
        "total_words1 = sum(counts.values())\n",
        "# total_words2 = sum(words.values())\n",
        "unique_words = len(counts)\n",
        "\n",
        "print('Total words:', total_words)\n",
        "print('Total words:', total_words1)\n",
        "# print('Total words:', total_words2)\n",
        "print('Unique words:', unique_words)"
      ],
      "metadata": {
        "colab": {
          "base_uri": "https://localhost:8080/",
          "height": 325
        },
        "id": "j8CoxCfn3k23",
        "outputId": "4391b7f5-f039-4e21-9083-9bd51733369b"
      },
      "execution_count": 29,
      "outputs": [
        {
          "output_type": "stream",
          "name": "stdout",
          "text": [
            "Enter a line of text:\n",
            "Writing programs (or programming) is a very creative and rewarding activity.  You can write programs for many reasons ranging from making your living to solving a difficult data analysis problem to having fun to helping someone else solve a problem.  This book assumes that everyone needs to know how to program and that once you know how to program, you will figure out what you want to do with your newfound skills.\n",
            "Words: ['Writing', 'programs', '(or', 'programming)', 'is', 'a', 'very', 'creative', 'and', 'rewarding', 'activity.', 'You', 'can', 'write', 'programs', 'for', 'many', 'reasons', 'ranging', 'from', 'making', 'your', 'living', 'to', 'solving', 'a', 'difficult', 'data', 'analysis', 'problem', 'to', 'having', 'fun', 'to', 'helping', 'someone', 'else', 'solve', 'a', 'problem.', 'This', 'book', 'assumes', 'that', 'everyone', 'needs', 'to', 'know', 'how', 'to', 'program', 'and', 'that', 'once', 'you', 'know', 'how', 'to', 'program,', 'you', 'will', 'figure', 'out', 'what', 'you', 'want', 'to', 'do', 'with', 'your', 'newfound', 'skills.']\n",
            "Counting...\n",
            "Counts {'Writing': 1, 'programs': 2, '(or': 1, 'programming)': 1, 'is': 1, 'a': 3, 'very': 1, 'creative': 1, 'and': 2, 'rewarding': 1, 'activity.': 1, 'You': 1, 'can': 1, 'write': 1, 'for': 1, 'many': 1, 'reasons': 1, 'ranging': 1, 'from': 1, 'making': 1, 'your': 2, 'living': 1, 'to': 7, 'solving': 1, 'difficult': 1, 'data': 1, 'analysis': 1, 'problem': 1, 'having': 1, 'fun': 1, 'helping': 1, 'someone': 1, 'else': 1, 'solve': 1, 'problem.': 1, 'This': 1, 'book': 1, 'assumes': 1, 'that': 2, 'everyone': 1, 'needs': 1, 'know': 2, 'how': 2, 'program': 1, 'once': 1, 'you': 3, 'program,': 1, 'will': 1, 'figure': 1, 'out': 1, 'what': 1, 'want': 1, 'do': 1, 'with': 1, 'newfound': 1, 'skills.': 1}\n"
          ]
        },
        {
          "output_type": "error",
          "ename": "AttributeError",
          "evalue": "'list' object has no attribute 'values'",
          "traceback": [
            "\u001b[0;31m---------------------------------------------------------------------------\u001b[0m",
            "\u001b[0;31mAttributeError\u001b[0m                            Traceback (most recent call last)",
            "\u001b[0;32m/tmp/ipython-input-518292168.py\u001b[0m in \u001b[0;36m<cell line: 0>\u001b[0;34m()\u001b[0m\n\u001b[1;32m     15\u001b[0m \u001b[0mtotal_words\u001b[0m \u001b[0;34m=\u001b[0m \u001b[0mlen\u001b[0m\u001b[0;34m(\u001b[0m\u001b[0mwords\u001b[0m\u001b[0;34m)\u001b[0m                 \u001b[0;31m# same as sum(counts.values())\u001b[0m\u001b[0;34m\u001b[0m\u001b[0;34m\u001b[0m\u001b[0m\n\u001b[1;32m     16\u001b[0m \u001b[0mtotal_words1\u001b[0m \u001b[0;34m=\u001b[0m \u001b[0msum\u001b[0m\u001b[0;34m(\u001b[0m\u001b[0mcounts\u001b[0m\u001b[0;34m.\u001b[0m\u001b[0mvalues\u001b[0m\u001b[0;34m(\u001b[0m\u001b[0;34m)\u001b[0m\u001b[0;34m)\u001b[0m\u001b[0;34m\u001b[0m\u001b[0;34m\u001b[0m\u001b[0m\n\u001b[0;32m---> 17\u001b[0;31m \u001b[0mtotal_words2\u001b[0m \u001b[0;34m=\u001b[0m \u001b[0msum\u001b[0m\u001b[0;34m(\u001b[0m\u001b[0mwords\u001b[0m\u001b[0;34m.\u001b[0m\u001b[0mvalues\u001b[0m\u001b[0;34m(\u001b[0m\u001b[0;34m)\u001b[0m\u001b[0;34m)\u001b[0m\u001b[0;34m\u001b[0m\u001b[0;34m\u001b[0m\u001b[0m\n\u001b[0m\u001b[1;32m     18\u001b[0m \u001b[0munique_words\u001b[0m \u001b[0;34m=\u001b[0m \u001b[0mlen\u001b[0m\u001b[0;34m(\u001b[0m\u001b[0mcounts\u001b[0m\u001b[0;34m)\u001b[0m\u001b[0;34m\u001b[0m\u001b[0;34m\u001b[0m\u001b[0m\n\u001b[1;32m     19\u001b[0m \u001b[0;34m\u001b[0m\u001b[0m\n",
            "\u001b[0;31mAttributeError\u001b[0m: 'list' object has no attribute 'values'"
          ]
        }
      ]
    },
    {
      "cell_type": "code",
      "source": [],
      "metadata": {
        "id": "EUGWk52zANAO"
      },
      "execution_count": null,
      "outputs": []
    }
  ]
}