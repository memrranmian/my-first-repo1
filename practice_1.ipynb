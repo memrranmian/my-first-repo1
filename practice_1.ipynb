{
  "nbformat": 4,
  "nbformat_minor": 0,
  "metadata": {
    "colab": {
      "provenance": [],
      "authorship_tag": "ABX9TyMkTnKCYb8SWiXTVXdFQZfb",
      "include_colab_link": true
    },
    "kernelspec": {
      "name": "python3",
      "display_name": "Python 3"
    },
    "language_info": {
      "name": "python"
    }
  },
  "cells": [
    {
      "cell_type": "markdown",
      "metadata": {
        "id": "view-in-github",
        "colab_type": "text"
      },
      "source": [
        "<a href=\"https://colab.research.google.com/github/memrranmian/my-first-repo1/blob/main/practice_1.ipynb\" target=\"_parent\"><img src=\"https://colab.research.google.com/assets/colab-badge.svg\" alt=\"Open In Colab\"/></a>"
      ]
    },
    {
      "cell_type": "markdown",
      "source": [
        "# Maps, Filters, Lambda, Sets"
      ],
      "metadata": {
        "id": "-z8a-l8wQBnd"
      }
    },
    {
      "cell_type": "code",
      "execution_count": 16,
      "metadata": {
        "colab": {
          "base_uri": "https://localhost:8080/"
        },
        "collapsed": true,
        "id": "Iok_q-LAODtT",
        "outputId": "59e02496-5d04-4e6d-d0b5-87516d257318"
      },
      "outputs": [
        {
          "output_type": "stream",
          "name": "stdout",
          "text": [
            "Exam Scores: [77, 97, 64, 85, 55]\n",
            "Grades: <map object at 0x7fb29f759390>\n",
            "Grades: C\n",
            "Grades: A\n",
            "Grades: D\n",
            "Grades: B\n",
            "Grades: F\n",
            "Grades: []\n",
            "\n",
            "Grades: ['C', 'A', 'D', 'B', 'F']\n"
          ]
        }
      ],
      "source": [
        "# Map is a generator function and works like an iterator\n",
        "\n",
        "marks = [77, 97, 64, 85, 55]\n",
        "\n",
        "def grade(marks):\n",
        "    if marks >= 90:\n",
        "      return 'A'\n",
        "    elif 80 <= marks < 90:\n",
        "      return 'B'\n",
        "    elif 70 <= marks < 80:\n",
        "      return 'C'\n",
        "    elif 60 <= marks < 70:\n",
        "      return 'D'\n",
        "    else:\n",
        "      return 'F'\n",
        "\n",
        "grades = map(grade,marks)\n",
        "\n",
        "print(\"Exam Scores:\", marks)\n",
        "# print(\"Grades:\", list(grades))\n",
        "print(\"Grades:\", grades)\n",
        "print(\"Grades:\", next(grades))\n",
        "print(\"Grades:\", next(grades))\n",
        "print(\"Grades:\", next(grades))\n",
        "print(\"Grades:\", next(grades))\n",
        "print(\"Grades:\", next(grades))\n",
        "print(\"Grades:\", list(grades))\n",
        "\n",
        "grades = list(map(grade,marks))\n",
        "print(\"\\nGrades:\", grades)"
      ]
    },
    {
      "cell_type": "code",
      "source": [
        "#filter function\n",
        "\n",
        "marks = [77.97,64,35,55]\n",
        "def failing(score):\n",
        "  return score<60\n",
        "result = filter(failing,marks)\n",
        "\n",
        "print('all scores obtained: ', marks)\n",
        "#print('failing scores: ',list(result))\n",
        "print('failing scores: ',next(result))\n",
        "print('failing scores: ',next(result))\n",
        "print('failing scores: ',list(result))\n",
        "\n",
        "result = list(filter(failing,marks))\n",
        "print('failing scores list: ', result)\n"
      ],
      "metadata": {
        "colab": {
          "base_uri": "https://localhost:8080/"
        },
        "id": "TDa3q4SYSGpW",
        "outputId": "6a3f6af1-f281-4011-81bb-f6685217f87e"
      },
      "execution_count": 22,
      "outputs": [
        {
          "output_type": "stream",
          "name": "stdout",
          "text": [
            "all scores obtained:  [77.97, 64, 35, 55]\n",
            "failing scores:  35\n",
            "failing scores:  55\n",
            "failing scores:  []\n",
            "failing scores list:  [35, 55]\n"
          ]
        }
      ]
    },
    {
      "cell_type": "code",
      "source": [
        "def greet(name):\n",
        "  return 'Hello '+ name #this function defines its type as string due to \"hello\" is concatinated to a var\n",
        "\n",
        "greeting = greet('Alice')\n",
        "# greeting1 = greet(Alice)\n",
        "# greeting2 = greet(name)\n",
        "greeting3 = greet(greeting)\n",
        "# greet('bob')\n",
        "print(greeting)\n",
        "print(greeting3)\n",
        "greet('bob')"
      ],
      "metadata": {
        "colab": {
          "base_uri": "https://localhost:8080/",
          "height": 71
        },
        "id": "486HoCBXmT9h",
        "outputId": "64c50c09-cd33-4056-8612-39af6d85f28a"
      },
      "execution_count": 29,
      "outputs": [
        {
          "output_type": "stream",
          "name": "stdout",
          "text": [
            "Hello Alice\n",
            "Hello Hello Alice\n"
          ]
        },
        {
          "output_type": "execute_result",
          "data": {
            "text/plain": [
              "'Hello bob'"
            ],
            "application/vnd.google.colaboratory.intrinsic+json": {
              "type": "string"
            }
          },
          "metadata": {},
          "execution_count": 29
        }
      ]
    },
    {
      "cell_type": "code",
      "source": [
        "def greet(name):\n",
        "\treturn name+3.14\n",
        "\n",
        "print (greet(3))"
      ],
      "metadata": {
        "colab": {
          "base_uri": "https://localhost:8080/"
        },
        "id": "anS7-FbiousQ",
        "outputId": "398b90e5-b9f2-41b7-b13c-f4340755e979"
      },
      "execution_count": 31,
      "outputs": [
        {
          "output_type": "stream",
          "name": "stdout",
          "text": [
            "6.140000000000001\n"
          ]
        }
      ]
    },
    {
      "cell_type": "code",
      "source": [
        "def compute(a,b):\n",
        "  result = a*b\n",
        "  if result>10:\n",
        "    return result-3\n",
        "  return result+4\n",
        "\n",
        "compute(5,3)\n",
        "compute(3,2)\n",
        "print (compute(3,2))\n",
        "print (compute(5,3))\n",
        "\n",
        "compute(3,2)\n",
        "compute(5,3)"
      ],
      "metadata": {
        "colab": {
          "base_uri": "https://localhost:8080/"
        },
        "id": "COpR4ZPPpzCq",
        "outputId": "7e130ccb-f2ef-4bed-b61c-24740be2e0ac"
      },
      "execution_count": 34,
      "outputs": [
        {
          "output_type": "stream",
          "name": "stdout",
          "text": [
            "10\n",
            "12\n"
          ]
        },
        {
          "output_type": "execute_result",
          "data": {
            "text/plain": [
              "12"
            ]
          },
          "metadata": {},
          "execution_count": 34
        }
      ]
    },
    {
      "cell_type": "code",
      "source": [
        "# dunder like __name__ , __file__ , __doc__\n",
        "\n",
        "print(f'file_1 __name__: {__name__}')\n",
        "\n",
        "if __name__ == '__main__':\n",
        "  print('__name__equals__main__')"
      ],
      "metadata": {
        "colab": {
          "base_uri": "https://localhost:8080/"
        },
        "id": "C5kzRkHyr8Dr",
        "outputId": "f40b9b7a-3f20-48dc-ea18-be37582ef7ca"
      },
      "execution_count": 37,
      "outputs": [
        {
          "output_type": "stream",
          "name": "stdout",
          "text": [
            "file_1 __name__: __main__\n",
            "__name__equals__main__\n"
          ]
        }
      ]
    },
    {
      "cell_type": "code",
      "source": [
        "# dunder like __name__ , __file__ , __doc__\n",
        "\n",
        "print(f'file2 __name__: {__name__}')\n",
        "\n",
        "# import file_1.py\n",
        "\n",
        "help(\"print\")"
      ],
      "metadata": {
        "colab": {
          "base_uri": "https://localhost:8080/"
        },
        "id": "3hHP7hhEsiha",
        "outputId": "f6e83104-91bb-4a4c-bf2b-88209605524b"
      },
      "execution_count": 44,
      "outputs": [
        {
          "output_type": "stream",
          "name": "stdout",
          "text": [
            "file2 __name__: __main__\n",
            "Help on built-in function print in module builtins:\n",
            "\n",
            "print(*args, sep=' ', end='\\n', file=None, flush=False)\n",
            "    Prints the values to a stream, or to sys.stdout by default.\n",
            "\n",
            "    sep\n",
            "      string inserted between values, default a space.\n",
            "    end\n",
            "      string appended after the last value, default a newline.\n",
            "    file\n",
            "      a file-like object (stream); defaults to the current sys.stdout.\n",
            "    flush\n",
            "      whether to forcibly flush the stream.\n",
            "\n"
          ]
        }
      ]
    },
    {
      "cell_type": "code",
      "source": [
        "# Define a custom class to represent a playlist\n",
        "class Playlist:\n",
        "    def __init__(self, songs):\n",
        "        \"\"\"\n",
        "        Constructor that initializes the playlist with a list of songs.\n",
        "        \"\"\"\n",
        "        self.songs = songs\n",
        "\n",
        "    def __len__(self):\n",
        "        \"\"\"\n",
        "        The __len__ dunder method.\n",
        "        It defines the behavior of the built-in len() function for Playlist objects.\n",
        "        \"\"\"\n",
        "        print(\"The __len__ method was called.\")\n",
        "        return len(self.songs)\n",
        "\n",
        "# Create an instance of the Playlist class\n",
        "my_playlist = Playlist([\"Bohemian Rhapsody\", \"Hotel California\", \"Imagine\", \"Hey Jude\"])\n",
        "\n",
        "# Call the built-in len() function on the custom object\n",
        "playlist_length = len(my_playlist)\n",
        "\n",
        "# Print the result\n",
        "print(f\"The number of songs in the playlist is: {playlist_length}\")\n"
      ],
      "metadata": {
        "colab": {
          "base_uri": "https://localhost:8080/"
        },
        "id": "a5VLR3ED1wPs",
        "outputId": "0cbb26b4-0e8a-4a6d-aee7-1cca10fdbd76"
      },
      "execution_count": 46,
      "outputs": [
        {
          "output_type": "stream",
          "name": "stdout",
          "text": [
            "The __len__ method was called.\n",
            "The number of songs in the playlist is: 4\n"
          ]
        }
      ]
    },
    {
      "cell_type": "code",
      "source": [
        "def greet(*args):\n",
        "    print(f\"Arguments: {args}\")\n",
        "    for name in args:\n",
        "        print(f\"Hello {name}\")\n",
        "\n",
        "greet(\"Alice\")           # ✅ args = (\"Alice\",)\n",
        "greet(\"Alice\", \"Bob\")    # ✅ args = (\"Alice\", \"Bob\")\n",
        "greet(\"A\", \"B\", \"C\")     # ✅ args = (\"A\", \"B\", \"C\")\n",
        "greet()                  # ✅ args = () empty tuple"
      ],
      "metadata": {
        "colab": {
          "base_uri": "https://localhost:8080/"
        },
        "id": "gIv8XZrxulAP",
        "outputId": "0b51d1b2-dbdd-466f-e865-97dc5f56dd11"
      },
      "execution_count": 45,
      "outputs": [
        {
          "output_type": "stream",
          "name": "stdout",
          "text": [
            "Arguments: ('Alice',)\n",
            "Hello Alice\n",
            "Arguments: ('Alice', 'Bob')\n",
            "Hello Alice\n",
            "Hello Bob\n",
            "Arguments: ('A', 'B', 'C')\n",
            "Hello A\n",
            "Hello B\n",
            "Hello C\n",
            "Arguments: ()\n"
          ]
        }
      ]
    },
    {
      "cell_type": "code",
      "source": [
        "#lambda functions\n",
        "\n",
        "def square(num):\n",
        " return num**2\n",
        "\n",
        "def cube(num):\n",
        "  return num**3\n",
        "\n",
        "def mul(num1,num2):\n",
        "  return num1*num2\n",
        "\n",
        "def transform_list(num_list, transform_item):\n",
        "  transformed_0= transform_item(num_list[0])\n",
        "  transformed_1= transform_item(num_list[1])\n",
        "  return [transformed_0, transformed_1]\n",
        "\n",
        "# def transform_list1(num_list, transform_item):\n",
        "#   transformed_0= transform_item(num_list[0])\n",
        "#   transformed_1= transform_item(num_list[1])\n",
        "#   return [transformed_0, transformed_1]\n",
        "\n",
        "my_list=[2,3]\n",
        "print (transform_list(my_list, cube),' , ',transform_list(my_list, square))\n",
        "print(list(map(cube,my_list)))\n",
        "print(list(map(square,my_list)))\n",
        "print (transform_list(my_list, lambda num: num**3),' , ',transform_list(my_list, lambda num: num**2))\n",
        "# print(list(map(my_list,square)))\n",
        "# print(list(map(mul,my_list)))\n",
        "\n",
        "\n",
        "# lamda functions in map and filter\n",
        "num_list = range(1,10)\n",
        "print (list(num_list))\n",
        "print(list(map(lambda num: num**2, num_list)))\n",
        "print(list(filter(lambda num: num%2 ==0, num_list)))"
      ],
      "metadata": {
        "colab": {
          "base_uri": "https://localhost:8080/"
        },
        "id": "w6q5Fi8S7RMe",
        "outputId": "1d85de1d-4ed4-4afc-da25-9c2bbd68bf8d"
      },
      "execution_count": 91,
      "outputs": [
        {
          "output_type": "stream",
          "name": "stdout",
          "text": [
            "[8, 27]  ,  [4, 9]\n",
            "[8, 27]\n",
            "[4, 9]\n",
            "[8, 27]  ,  [4, 9]\n",
            "[1, 2, 3, 4, 5, 6, 7, 8, 9]\n",
            "[1, 4, 9, 16, 25, 36, 49, 64, 81]\n",
            "[2, 4, 6, 8]\n"
          ]
        }
      ]
    },
    {
      "cell_type": "code",
      "source": [
        "# print(list(10))\n",
        "print(list[1,2,'2'])\n",
        "\n",
        "print(list('imran'))\n",
        "\n",
        "print(list(range(10)))  # ✅ Creates [0, 1, 2, 3, 4, 5, 6, 7, 8, 9]\n",
        "print([0] * 10)  # ✅ Creates [0, 0, 0, 0, 0, 0, 0, 0, 0, 0]\n",
        "print([i for i in range(10)])  # ✅ Creates [0, 1, 2, 3, 4, 5, 6, 7, 8, 9]"
      ],
      "metadata": {
        "colab": {
          "base_uri": "https://localhost:8080/"
        },
        "id": "haho9KbJAeLo",
        "outputId": "1e2b8de3-8362-42df-c6f4-1c1dbdc040af"
      },
      "execution_count": 77,
      "outputs": [
        {
          "output_type": "stream",
          "name": "stdout",
          "text": [
            "list[1, 2, '2']\n",
            "['i', 'm', 'r', 'a', 'n']\n",
            "[0, 1, 2, 3, 4, 5, 6, 7, 8, 9]\n",
            "[0, 0, 0, 0, 0, 0, 0, 0, 0, 0]\n",
            "[0, 1, 2, 3, 4, 5, 6, 7, 8, 9]\n"
          ]
        }
      ]
    },
    {
      "cell_type": "code",
      "source": [
        "# understanding list[] (ordered) , tuple() (ordered) , sets{} (no order)\n",
        "\n",
        "# list[]\n",
        "list1=['a','b','c','a']\n",
        "print(['a','b','c','a'])\n",
        "list1[2] = 'z'\n",
        "print (list1[2])\n",
        "print (list1)\n",
        "\n",
        "\n",
        "# tuple\n",
        "tuple1=('a','b','c','a')\n",
        "print(('a','b','c','a'))\n",
        "# tuple1[2] = 'z'\n",
        "print (tuple1[2])\n",
        "\n",
        "# sets\n",
        "set1= {'a','b','c','a'}\n",
        "print({'a','b','c','a'})\n",
        "# set[2] = 'z'\n",
        "# print (set1)\n",
        "# print (set1[2])  # give error due to unordered form\n",
        "set1.add('z')\n",
        "print(set1)\n",
        "set1.remove('a')\n",
        "print(set1)\n",
        "\n",
        "list1 = [1,2,5,4,6,7,7,6,1]\n",
        "set(num)\n",
        "\n",
        "\n",
        "\n"
      ],
      "metadata": {
        "colab": {
          "base_uri": "https://localhost:8080/"
        },
        "id": "0b0bQ5r6PAKj",
        "outputId": "268e5e72-047b-4019-ac13-c6ea8fcb8945"
      },
      "execution_count": 112,
      "outputs": [
        {
          "output_type": "stream",
          "name": "stdout",
          "text": [
            "['a', 'b', 'c', 'a']\n",
            "z\n",
            "['a', 'b', 'z', 'a']\n",
            "('a', 'b', 'c', 'a')\n",
            "c\n",
            "{'a', 'b', 'c'}\n",
            "{'a', 'b', 'c', 'z'}\n",
            "{'b', 'c', 'z'}\n"
          ]
        },
        {
          "output_type": "execute_result",
          "data": {
            "text/plain": [
              "{1, 2, 4, 5, 6, 7}"
            ]
          },
          "metadata": {},
          "execution_count": 112
        }
      ]
    },
    {
      "cell_type": "code",
      "source": [
        "# list comprehensions\n",
        "\n",
        "num = range(1,6)\n",
        "num_sqr=[]\n",
        "for i in num:\n",
        "  sqr = i**2\n",
        "  num_sqr.append(sqr)\n",
        "print(num_sqr)\n",
        "\n",
        "\n",
        "\n",
        "\n",
        "num_sqr1 = [i**2 for i in num]\n",
        "print(num_sqr1)"
      ],
      "metadata": {
        "colab": {
          "base_uri": "https://localhost:8080/"
        },
        "id": "ZydDflDKYzWm",
        "outputId": "821d0514-e95a-44f4-da6d-b994290a8a2d"
      },
      "execution_count": 117,
      "outputs": [
        {
          "output_type": "stream",
          "name": "stdout",
          "text": [
            "[1, 4, 9, 16, 25]\n",
            "[1, 4, 9, 16, 25]\n"
          ]
        }
      ]
    },
    {
      "cell_type": "code",
      "source": [
        "tv_shows = ['friends','park and recreation','the office','30 rock','modern family']\n",
        "\n",
        "tv_shows1 = []\n",
        "for i in tv_shows:\n",
        "  show_cap = i.title()\n",
        "  tv_shows1.append(show_cap)\n",
        "print(tv_shows1)\n",
        "\n",
        "tv_shows2 = [i.title() for i in tv_shows]\n",
        "print(tv_shows2)"
      ],
      "metadata": {
        "colab": {
          "base_uri": "https://localhost:8080/"
        },
        "id": "g9eXax6UaE71",
        "outputId": "21f3b117-4029-442c-8b49-6f4808f00e8c"
      },
      "execution_count": 120,
      "outputs": [
        {
          "output_type": "stream",
          "name": "stdout",
          "text": [
            "['Friends', 'Park And Recreation', 'The Office', '30 Rock', 'Modern Family']\n",
            "['Friends', 'Park And Recreation', 'The Office', '30 Rock', 'Modern Family']\n"
          ]
        }
      ]
    },
    {
      "cell_type": "code",
      "source": [
        "tv_shows = ['friends','park and recreation','the office','30 rock','modern family']\n",
        "tv_shows = ['friends','park and recreation','the office','30 rock','modern family']\n",
        "\n",
        "tv_shows1 = []\n",
        "for i in tv_shows:\n",
        "  if len(i)>=10:\n",
        "    show_cap = i.title()\n",
        "    tv_shows1.append(show_cap)\n",
        "print(tv_shows1)\n",
        "\n",
        "tv_shows2 = [i.title() for i in tv_shows if len(i)>=10]\n",
        "print(tv_shows2)"
      ],
      "metadata": {
        "colab": {
          "base_uri": "https://localhost:8080/"
        },
        "id": "5yMStPqubVPE",
        "outputId": "fd5373f2-19aa-4fdf-851b-caddc0eddd4d"
      },
      "execution_count": 122,
      "outputs": [
        {
          "output_type": "stream",
          "name": "stdout",
          "text": [
            "['Park And Recreation', 'The Office', 'Modern Family']\n",
            "['Park And Recreation', 'The Office', 'Modern Family']\n"
          ]
        }
      ]
    },
    {
      "cell_type": "code",
      "source": [
        " [i**2 for i in range(1,11)]"
      ],
      "metadata": {
        "colab": {
          "base_uri": "https://localhost:8080/"
        },
        "id": "PIyEYGXVcF4U",
        "outputId": "f6c250fc-e8cb-4107-8aeb-0c42ce502044"
      },
      "execution_count": 125,
      "outputs": [
        {
          "output_type": "execute_result",
          "data": {
            "text/plain": [
              "[1, 4, 9, 16, 25, 36, 49, 64, 81, 100]"
            ]
          },
          "metadata": {},
          "execution_count": 125
        }
      ]
    },
    {
      "cell_type": "code",
      "source": [
        "from time import time\n",
        "\n",
        "# List comprehension approach\n",
        "start = time()\n",
        "[n**2 for n in range(1, 100000001)]\n",
        "end = time()\n",
        "print(\"List comp run time:\", end - start)\n",
        "\n",
        "# Loop + append approach\n",
        "start = time()\n",
        "squares = []\n",
        "for n in range(1, 100000001):\n",
        "    squares.append(n**2)\n",
        "end = time()\n",
        "print(\"Loop + append run time:\", end - start)"
      ],
      "metadata": {
        "colab": {
          "base_uri": "https://localhost:8080/"
        },
        "id": "nm-E0OOHc_Oa",
        "outputId": "881b783b-d564-4a5e-f8b9-96753bee67ac"
      },
      "execution_count": 126,
      "outputs": [
        {
          "output_type": "stream",
          "name": "stdout",
          "text": [
            "List comp run time: 11.260793685913086\n",
            "Loop + append run time: 23.21716284751892\n"
          ]
        }
      ]
    },
    {
      "cell_type": "code",
      "source": [
        "num = range (1,11)\n",
        "result =[]\n",
        "for i in num:\n",
        "  if i%2==0:\n",
        "    sqr = i**2\n",
        "    if sqr>10:\n",
        "      result.append(sqr)\n",
        "print(result)\n",
        "\n",
        "\n",
        "[i**2 for i in num if i%2==0 and i**2>10]\n",
        "\n",
        "\n"
      ],
      "metadata": {
        "colab": {
          "base_uri": "https://localhost:8080/"
        },
        "id": "ceWaku14dX3H",
        "outputId": "4277aec8-323e-452a-f8b4-7776dbea0f9b"
      },
      "execution_count": 131,
      "outputs": [
        {
          "output_type": "stream",
          "name": "stdout",
          "text": [
            "[16, 36, 64, 100]\n"
          ]
        },
        {
          "output_type": "execute_result",
          "data": {
            "text/plain": [
              "[16, 36, 64, 100]"
            ]
          },
          "metadata": {},
          "execution_count": 131
        }
      ]
    }
  ]
}