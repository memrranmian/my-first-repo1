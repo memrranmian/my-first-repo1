{
  "nbformat": 4,
  "nbformat_minor": 0,
  "metadata": {
    "colab": {
      "provenance": [],
      "authorship_tag": "ABX9TyN79YmHcomqjdXVnf9IysBk",
      "include_colab_link": true
    },
    "kernelspec": {
      "name": "python3",
      "display_name": "Python 3"
    },
    "language_info": {
      "name": "python"
    }
  },
  "cells": [
    {
      "cell_type": "markdown",
      "metadata": {
        "id": "view-in-github",
        "colab_type": "text"
      },
      "source": [
        "<a href=\"https://colab.research.google.com/github/memrranmian/my-first-repo1/blob/main/ai_navtcc_navtcc_lab15_numpy_lec18.ipynb\" target=\"_parent\"><img src=\"https://colab.research.google.com/assets/colab-badge.svg\" alt=\"Open In Colab\"/></a>"
      ]
    },
    {
      "cell_type": "code",
      "execution_count": 12,
      "metadata": {
        "colab": {
          "base_uri": "https://localhost:8080/"
        },
        "id": "2feOUp42qzT0",
        "outputId": "49cdd5f2-63bc-4ca9-eb4f-27d507a56b8e"
      },
      "outputs": [
        {
          "output_type": "execute_result",
          "data": {
            "text/plain": [
              "(2, 3)"
            ]
          },
          "metadata": {},
          "execution_count": 12
        }
      ],
      "source": [
        "# numpy array (numerical phython)\n",
        "# faster than series in panda data frame\n",
        "#  offical help https://numpy.org/doc/stable/user/absolute_beginners.html\n",
        "\n",
        "# pip install numpy\n",
        "\n",
        "import numpy as np\n",
        "\n",
        "a=np.array([[1,2,3],[4,5,6]])\n",
        "a.shape"
      ]
    },
    {
      "cell_type": "code",
      "source": [
        "a=np.array([1,2,3,4,5,6])\n",
        "print(a)\n",
        "print(a[0])\n",
        "a[0]\n",
        "\n",
        "a[:3]\n",
        "print(a)\n",
        "a[3:]\n",
        "print(a)\n",
        "a[3:6]\n",
        "print(a)\n",
        "\n",
        "\n",
        "c=a.copy()\n",
        "\n",
        "\n",
        "a[0]=10\n",
        "print(a[:3])\n",
        "print(a)\n",
        "\n",
        "\n",
        "b=a[3:]\n",
        "print(b)\n",
        "b[0]=40\n",
        "print(b)\n",
        "print(a)\n",
        "\n",
        "print('value of c array',c)\n"
      ],
      "metadata": {
        "colab": {
          "base_uri": "https://localhost:8080/"
        },
        "id": "GSLlvBDjufT0",
        "outputId": "3565eabd-3224-4cdd-f709-c5070e4ebb18"
      },
      "execution_count": 32,
      "outputs": [
        {
          "output_type": "stream",
          "name": "stdout",
          "text": [
            "[1 2 3 4 5 6]\n",
            "1\n",
            "[1 2 3 4 5 6]\n",
            "[1 2 3 4 5 6]\n",
            "[1 2 3 4 5 6]\n",
            "[10  2  3]\n",
            "[10  2  3  4  5  6]\n",
            "[4 5 6]\n",
            "[40  5  6]\n",
            "[10  2  3 40  5  6]\n",
            "value of c array [1 2 3 4 5 6]\n"
          ]
        }
      ]
    },
    {
      "cell_type": "code",
      "source": [
        "a=np.array([[1,2,3,4],[5,6,7,8],[9,10,11,12]])\n",
        "print(a)\n",
        "print(a[1,3]) #print the element in row 1 n column 3 i.e. 8\n",
        "print(a.shape)\n",
        "print(len(a))\n",
        "print(len(a.shape))\n",
        "print(a.ndim)\n"
      ],
      "metadata": {
        "colab": {
          "base_uri": "https://localhost:8080/"
        },
        "id": "77pJz9-C24oB",
        "outputId": "ab859851-3a10-48d9-d1ff-5fb803e3a590"
      },
      "execution_count": 43,
      "outputs": [
        {
          "output_type": "stream",
          "name": "stdout",
          "text": [
            "[[ 1  2  3  4]\n",
            " [ 5  6  7  8]\n",
            " [ 9 10 11 12]]\n",
            "8\n",
            "(3, 4)\n",
            "3\n",
            "2\n",
            "2\n"
          ]
        }
      ]
    },
    {
      "cell_type": "code",
      "source": [
        "x = np.array([[1,2,3],[4,5,6]], order='F')\n",
        "print(x)"
      ],
      "metadata": {
        "colab": {
          "base_uri": "https://localhost:8080/"
        },
        "id": "hmim_oqQvU7p",
        "outputId": "0b406154-9137-476f-d9a1-d099b7070a2d"
      },
      "execution_count": 33,
      "outputs": [
        {
          "output_type": "stream",
          "name": "stdout",
          "text": [
            "[[1 2 3]\n",
            " [4 5 6]]\n"
          ]
        }
      ]
    }
  ]
}