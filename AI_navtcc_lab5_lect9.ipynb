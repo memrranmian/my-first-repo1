{
  "nbformat": 4,
  "nbformat_minor": 0,
  "metadata": {
    "colab": {
      "provenance": [],
      "authorship_tag": "ABX9TyO/Als4F2Q6zqvjSpn6FEkS",
      "include_colab_link": true
    },
    "kernelspec": {
      "name": "python3",
      "display_name": "Python 3"
    },
    "language_info": {
      "name": "python"
    }
  },
  "cells": [
    {
      "cell_type": "markdown",
      "metadata": {
        "id": "view-in-github",
        "colab_type": "text"
      },
      "source": [
        "<a href=\"https://colab.research.google.com/github/memrranmian/my-first-repo1/blob/main/AI_navtcc_lab5_lect9.ipynb\" target=\"_parent\"><img src=\"https://colab.research.google.com/assets/colab-badge.svg\" alt=\"Open In Colab\"/></a>"
      ]
    },
    {
      "cell_type": "code",
      "execution_count": null,
      "metadata": {
        "colab": {
          "base_uri": "https://localhost:8080/"
        },
        "id": "g3k9BbWhAYeI",
        "outputId": "d48118d8-8b91-4f04-b89a-71bd10da1ef8"
      },
      "outputs": [
        {
          "output_type": "stream",
          "name": "stdout",
          "text": [
            "smaller\n",
            "finish\n"
          ]
        }
      ],
      "source": [
        "x=5\n",
        "if x<10:\n",
        "  print('smaller')\n",
        "if x>20:\n",
        "  print ('bigger')\n",
        "print('finish')"
      ]
    },
    {
      "cell_type": "code",
      "source": [
        "x = 5\n",
        "if x == 5 :\n",
        "    print('Equals 5')\n",
        "if x > 4 :\n",
        "    print('Greater than 4')\n",
        "if  x >= 5 :\n",
        "    print('Greater than or Equals 5')\n",
        "if x < 6 : print('Less than 6')\n",
        "if x <= 5 :\n",
        "    print('Less than or Equals 5')\n",
        "if x != 6 :\n",
        "    print('Not equal 6')"
      ],
      "metadata": {
        "colab": {
          "base_uri": "https://localhost:8080/"
        },
        "id": "0Y7F3Kj5CNHo",
        "outputId": "d2e8d214-d8e1-437a-d202-2e0d14bb6485"
      },
      "execution_count": null,
      "outputs": [
        {
          "output_type": "stream",
          "name": "stdout",
          "text": [
            "Equals 5\n",
            "Greater than 4\n",
            "Greater than or Equals 5\n",
            "Less than 6\n",
            "Less than or Equals 5\n",
            "Not equal 6\n"
          ]
        }
      ]
    },
    {
      "cell_type": "code",
      "source": [
        "x = 5\n",
        "\n",
        "print('Before 5')\n",
        "if  x == 5 :\n",
        "    print('Is 5')\n",
        "    print('Is Still 5')\n",
        "    print('Third 5')\n",
        "print('Afterwards 5')\n",
        "\n",
        "print('Before 6')\n",
        "if x == 6 :\n",
        "    print('Is 6')\n",
        "    print('Is Still 6')\n",
        "    print('Third 6')\n",
        "print('Afterwards 6')\n"
      ],
      "metadata": {
        "colab": {
          "base_uri": "https://localhost:8080/"
        },
        "id": "mMvs4BzpCmIF",
        "outputId": "f199a59b-732f-4058-afdc-b679ae4201e7"
      },
      "execution_count": null,
      "outputs": [
        {
          "output_type": "stream",
          "name": "stdout",
          "text": [
            "Before 5\n",
            "Is 5\n",
            "Is Still 5\n",
            "Third 5\n",
            "Afterwards 5\n",
            "Before 6\n",
            "Afterwards 6\n"
          ]
        }
      ]
    },
    {
      "cell_type": "code",
      "source": [
        "x = 5\n",
        "if x > 2 :\n",
        "    print('Bigger than 2')\n",
        "    print('Still bigger')\n",
        "print('Done with 2')\n",
        "for i in range(5) :\n",
        "    print(i)\n",
        "    if i > 2 :\n",
        "     print('Bigger than 2')\n",
        "    print('Done with i', i)\n",
        "print('All Done')"
      ],
      "metadata": {
        "colab": {
          "base_uri": "https://localhost:8080/"
        },
        "id": "Jf8DyrBZNJ-8",
        "outputId": "53e2e9fb-3a51-4fa5-f90d-1c04e56ad059"
      },
      "execution_count": null,
      "outputs": [
        {
          "output_type": "stream",
          "name": "stdout",
          "text": [
            "Bigger than 2\n",
            "Still bigger\n",
            "Done with 2\n",
            "0\n",
            "Done with i 0\n",
            "1\n",
            "Done with i 1\n",
            "2\n",
            "Done with i 2\n",
            "3\n",
            "Bigger than 2\n",
            "Done with i 3\n",
            "4\n",
            "Bigger than 2\n",
            "Done with i 4\n",
            "All Done\n"
          ]
        }
      ]
    },
    {
      "cell_type": "code",
      "source": [
        "x=42\n",
        "if x>1:\n",
        "  print('more than one')\n",
        "  if x<100:\n",
        "    print('less than 100')\n",
        "print('all done')"
      ],
      "metadata": {
        "colab": {
          "base_uri": "https://localhost:8080/"
        },
        "id": "M6miZm-5ONcZ",
        "outputId": "1f1a2338-328f-49f2-bfb0-568765e70e99"
      },
      "execution_count": null,
      "outputs": [
        {
          "output_type": "stream",
          "name": "stdout",
          "text": [
            "more than one\n",
            "less than 100\n",
            "all done\n"
          ]
        }
      ]
    },
    {
      "cell_type": "code",
      "source": [
        "x=4\n",
        "if x>2:\n",
        "  print('bigger')\n",
        "else:\n",
        "  print('smaller')\n",
        "print('all done')"
      ],
      "metadata": {
        "colab": {
          "base_uri": "https://localhost:8080/"
        },
        "id": "_a_KPD34ftmo",
        "outputId": "6703e795-012c-4881-a0a2-83f6e2166343"
      },
      "execution_count": null,
      "outputs": [
        {
          "output_type": "stream",
          "name": "stdout",
          "text": [
            "bigger\n",
            "all done\n"
          ]
        }
      ]
    },
    {
      "cell_type": "code",
      "source": [
        "x=4\n",
        "if x<2:\n",
        "  print('small')\n",
        "elif x<10:\n",
        "  print('medium')\n",
        "else:\n",
        "  print('large')\n",
        "print('all done')"
      ],
      "metadata": {
        "colab": {
          "base_uri": "https://localhost:8080/"
        },
        "id": "dpOEV08DgLW9",
        "outputId": "cd5eab5a-9b75-4f9f-c574-01ada8e93f6c"
      },
      "execution_count": null,
      "outputs": [
        {
          "output_type": "stream",
          "name": "stdout",
          "text": [
            "medium\n",
            "all done\n"
          ]
        }
      ]
    },
    {
      "cell_type": "code",
      "source": [
        "x=0\n",
        "if x<2:\n",
        "  print('small')\n",
        "elif x<10:\n",
        "  print('medium')\n",
        "else:\n",
        "  print('large')\n",
        "print('all done')"
      ],
      "metadata": {
        "colab": {
          "base_uri": "https://localhost:8080/"
        },
        "id": "PaqdBTn7gdNm",
        "outputId": "038035f3-c674-46eb-ee30-ba7e140d7eee"
      },
      "execution_count": null,
      "outputs": [
        {
          "output_type": "stream",
          "name": "stdout",
          "text": [
            "small\n",
            "all done\n"
          ]
        }
      ]
    },
    {
      "cell_type": "code",
      "source": [
        "x=5\n",
        "if x<2:\n",
        "  print('small')\n",
        "elif x<10:\n",
        "  print('medium')\n",
        "else:\n",
        "  print('large')\n",
        "print('all done')"
      ],
      "metadata": {
        "colab": {
          "base_uri": "https://localhost:8080/"
        },
        "id": "ZPjEYXvsglTy",
        "outputId": "71eb9cbe-d0dc-40d7-9095-6beb6b4a1765"
      },
      "execution_count": null,
      "outputs": [
        {
          "output_type": "stream",
          "name": "stdout",
          "text": [
            "medium\n",
            "all done\n"
          ]
        }
      ]
    },
    {
      "cell_type": "code",
      "source": [
        "x=20\n",
        "if x<2:\n",
        "  print('small')\n",
        "elif x<10:\n",
        "  print('medium')\n",
        "else:\n",
        "  print('large')\n",
        "print('all done')"
      ],
      "metadata": {
        "colab": {
          "base_uri": "https://localhost:8080/"
        },
        "id": "UtnJ2qapgslV",
        "outputId": "654f13a6-98e1-4e3b-da64-d795ed5cc686"
      },
      "execution_count": null,
      "outputs": [
        {
          "output_type": "stream",
          "name": "stdout",
          "text": [
            "large\n",
            "all done\n"
          ]
        }
      ]
    },
    {
      "cell_type": "code",
      "source": [
        "x=5\n",
        "if x<2:\n",
        "  print('small')\n",
        "elif x<10:\n",
        "  print('medium')\n",
        "print('all done')"
      ],
      "metadata": {
        "colab": {
          "base_uri": "https://localhost:8080/"
        },
        "id": "kqmccTrQgyD6",
        "outputId": "8e1f8b65-5be5-4e89-a894-1b8503144b26"
      },
      "execution_count": null,
      "outputs": [
        {
          "output_type": "stream",
          "name": "stdout",
          "text": [
            "medium\n",
            "all done\n"
          ]
        }
      ]
    },
    {
      "cell_type": "code",
      "source": [
        "if x<2:\n",
        "  print('small')\n",
        "elif x<10:\n",
        "  print('medium')\n",
        "elif x<20:\n",
        "  print('big')\n",
        "elif x<40:\n",
        "  print('large')\n",
        "elif x<100:\n",
        "  print('huge')\n",
        "else:\n",
        "  print('ginormous')"
      ],
      "metadata": {
        "colab": {
          "base_uri": "https://localhost:8080/"
        },
        "id": "Qiv5WBcHhU6O",
        "outputId": "ca4f43c7-2a99-4e61-bdd3-f0f2049a6afe"
      },
      "execution_count": null,
      "outputs": [
        {
          "output_type": "stream",
          "name": "stdout",
          "text": [
            "medium\n"
          ]
        }
      ]
    },
    {
      "cell_type": "code",
      "source": [
        "if x<2:\n",
        "  print('below 2')\n",
        "elif x>=2:\n",
        "  print('two or more')\n",
        "else:\n",
        "  print('something else')\n",
        "\n",
        "print(x)"
      ],
      "metadata": {
        "colab": {
          "base_uri": "https://localhost:8080/"
        },
        "id": "MSecBKRgh8Hx",
        "outputId": "a7cb4f04-252a-4682-b8ec-1978d3a06910"
      },
      "execution_count": null,
      "outputs": [
        {
          "output_type": "stream",
          "name": "stdout",
          "text": [
            "two or more\n",
            "5\n"
          ]
        }
      ]
    },
    {
      "cell_type": "code",
      "source": [
        "if x<2:\n",
        "  print('below 2')\n",
        "elif x<20:\n",
        "  print('below 20')\n",
        "elif x<10:\n",
        "  print('below 10')\n",
        "else:\n",
        "  print('something else')\n",
        "\n",
        "print(x)"
      ],
      "metadata": {
        "colab": {
          "base_uri": "https://localhost:8080/"
        },
        "id": "eYta-ksmiGFX",
        "outputId": "ea5ca67a-19ce-49b0-f9f5-ee001108f2e7"
      },
      "execution_count": null,
      "outputs": [
        {
          "output_type": "stream",
          "name": "stdout",
          "text": [
            "below 20\n",
            "5\n"
          ]
        }
      ]
    },
    {
      "cell_type": "code",
      "source": [
        "astr='hello bob'\n",
        "try:\n",
        "  istr=int(astr)\n",
        "except:\n",
        "  istr=-1\n",
        "print('first',istr)"
      ],
      "metadata": {
        "colab": {
          "base_uri": "https://localhost:8080/"
        },
        "id": "3tVwV77Wic-9",
        "outputId": "9c1b46de-58a9-49a5-c6e1-eefe1fe3975d"
      },
      "execution_count": null,
      "outputs": [
        {
          "output_type": "stream",
          "name": "stdout",
          "text": [
            "first -1\n"
          ]
        }
      ]
    },
    {
      "cell_type": "code",
      "source": [
        "astr='123'\n",
        "try:\n",
        "  istr=int(astr)\n",
        "except:\n",
        "  istr=-1\n",
        "print('second',istr)"
      ],
      "metadata": {
        "colab": {
          "base_uri": "https://localhost:8080/"
        },
        "id": "42plMKCEkOE6",
        "outputId": "5123a939-dea6-4c9b-88b1-83bdc8a1002a"
      },
      "execution_count": null,
      "outputs": [
        {
          "output_type": "stream",
          "name": "stdout",
          "text": [
            "second 123\n"
          ]
        }
      ]
    },
    {
      "cell_type": "code",
      "source": [
        "astr='bob'\n",
        "try:\n",
        "  print('hello')\n",
        "  istr=int(astr)\n",
        "  print('there')\n",
        "except:\n",
        "  istr=-1\n",
        "print('done',istr)"
      ],
      "metadata": {
        "colab": {
          "base_uri": "https://localhost:8080/"
        },
        "id": "Lukioi4AkWzb",
        "outputId": "9fed9d9b-5089-4574-aaef-7c6d6c746e4b"
      },
      "execution_count": null,
      "outputs": [
        {
          "output_type": "stream",
          "name": "stdout",
          "text": [
            "hello\n",
            "done -1\n"
          ]
        }
      ]
    },
    {
      "cell_type": "code",
      "source": [
        "rawstr=input('enter a number: ')\n",
        "try:\n",
        "  ival = float(rawstr)\n",
        "except:\n",
        "    ival=-1\n",
        "\n",
        "if ival>0:\n",
        "  print('nice work')\n",
        "else:\n",
        "  print(\"not a number\")\n",
        "print(ival)"
      ],
      "metadata": {
        "colab": {
          "base_uri": "https://localhost:8080/"
        },
        "id": "zN36NhKMk2vI",
        "outputId": "bb754314-d8d6-40b2-e608-a4928a084c89"
      },
      "execution_count": null,
      "outputs": [
        {
          "output_type": "stream",
          "name": "stdout",
          "text": [
            "enter a number: 23\n",
            "nice work\n",
            "23.0\n"
          ]
        }
      ]
    },
    {
      "cell_type": "code",
      "source": [
        "#Rewrite your pay computation to give the employee 1.5 times the hourly rate for hours worked above 40 hours.\n",
        "\n",
        "\n",
        "hr = int(input('enter hours: '))\n",
        "srph = int(input('enter rate: '))\n",
        "shr=40\n",
        "if hr>40:\n",
        "  xtrahr=hr-shr\n",
        "  print('your payable wage includes overtime',shr*srph+xtrahr*15)\n",
        "\n",
        "else:\n",
        "  print('your payable wage',hr*srph)"
      ],
      "metadata": {
        "id": "TfeIbfZAnfKc",
        "colab": {
          "base_uri": "https://localhost:8080/"
        },
        "outputId": "44e4873e-0d58-42d0-fb18-c44efe413041"
      },
      "execution_count": 56,
      "outputs": [
        {
          "output_type": "stream",
          "name": "stdout",
          "text": [
            "enter hours: 39\n",
            "enter rate: 10\n",
            "your payable wage 390\n"
          ]
        }
      ]
    },
    {
      "cell_type": "code",
      "source": [
        "#Rewrite your pay computation to give the employee 1.5 times the hourly rate for hours worked above 40 hours.\n",
        "#Rewrite your pay program using try and except so that your program handles non-numeric input gracefully.\n",
        "hr = input('enter hours: ')\n",
        "srph = input('enter rate: ')\n",
        "try:\n",
        "  hr = int(hr)\n",
        "  srph = int(srph)\n",
        "except:\n",
        "  hr = -1\n",
        "  srph = -1\n",
        "  print('input values are not numeric')\n",
        "if hr>40:\n",
        "  shr=40\n",
        "  xtrahr=hr-40\n",
        "  print('your payable wage includes overtime',shr*srph+xtrahr*15)\n",
        "elif hr<40:\n",
        "  print('your payable wage',hr*srph)\n",
        "elif hr==40:\n",
        "  print('your payable wage',hr*srph)\n"
      ],
      "metadata": {
        "colab": {
          "base_uri": "https://localhost:8080/"
        },
        "id": "ovf5c9vktdFD",
        "outputId": "587cc3d9-ed45-48a7-be6f-02ba0eb54ee6"
      },
      "execution_count": 64,
      "outputs": [
        {
          "output_type": "stream",
          "name": "stdout",
          "text": [
            "enter hours: imran\n",
            "enter rate: mian\n",
            "input values are not numeric\n",
            "your payable wage 1\n"
          ]
        }
      ]
    }
  ]
}