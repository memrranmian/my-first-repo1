{
  "nbformat": 4,
  "nbformat_minor": 0,
  "metadata": {
    "colab": {
      "provenance": [],
      "authorship_tag": "ABX9TyM7Ox6GDX6CztqDfV+hzQhP",
      "include_colab_link": true
    },
    "kernelspec": {
      "name": "python3",
      "display_name": "Python 3"
    },
    "language_info": {
      "name": "python"
    }
  },
  "cells": [
    {
      "cell_type": "markdown",
      "metadata": {
        "id": "view-in-github",
        "colab_type": "text"
      },
      "source": [
        "<a href=\"https://colab.research.google.com/github/memrranmian/my-first-repo1/blob/main/MSDSF25A007__Assignment3.ipynb\" target=\"_parent\"><img src=\"https://colab.research.google.com/assets/colab-badge.svg\" alt=\"Open In Colab\"/></a>"
      ]
    },
    {
      "cell_type": "code",
      "source": [
        "# Question 1 – Student Performance Analyzer\n",
        "\n",
        "# Step 1: Create the list of dictionaries\n",
        "students = [\n",
        "    {\"name\": \"Ali\", \"department\": \"Data Science\", \"grades\": {\"Python\": 88, \"Statistics\": 92}},\n",
        "    {\"name\": \"Sara\", \"department\": \"AI\", \"grades\": {\"ML\": 80, \"Python\": 75}},\n",
        "    {\"name\": \"Hassan\", \"department\": \"Cyber Security\", \"grades\": {\"Networks\": 89, \"Python\": 78}}\n",
        "]\n",
        "\n",
        "# Step 2: Initialize variables\n",
        "top_student = \"\"\n",
        "top_avg = 0\n",
        "unique_courses = set()\n",
        "\n",
        "# Step 3: Loop through each student\n",
        "for student in students:\n",
        "    grades = student[\"grades\"].values()\n",
        "    avg = sum(grades) / len(grades)\n",
        "\n",
        "    # Collect unique courses\n",
        "    unique_courses.update(student[\"grades\"].keys())\n",
        "\n",
        "    # Determine performance classification\n",
        "    if avg >= 90:\n",
        "        performance = \"Excellent\"\n",
        "    elif avg >= 80:\n",
        "        performance = \"Good\"\n",
        "    elif avg >= 70:\n",
        "        performance = \"Average\"\n",
        "    else:\n",
        "        performance = \"Needs Improvement\"\n",
        "\n",
        "    # Display each student's result\n",
        "    print(f\"{student['name']} ({student['department']}): Average = {avg:.1f} → {performance}\")\n",
        "\n",
        "    # Step 4: Determine the top-performing student\n",
        "    if avg > top_avg:\n",
        "        top_avg = avg\n",
        "        top_student = student[\"name\"]\n",
        "\n",
        "# Step 5: Display top performer and unique courses\n",
        "print(\"\\nTop-Performing Student:\", top_student)\n",
        "print(\"Unique Courses:\", unique_courses)\n",
        "\n"
      ],
      "metadata": {
        "colab": {
          "base_uri": "https://localhost:8080/"
        },
        "id": "ktjJ9IJt8caJ",
        "outputId": "0a2a64f8-5f39-4399-a9ba-dd1089b5a43c"
      },
      "execution_count": 24,
      "outputs": [
        {
          "output_type": "stream",
          "name": "stdout",
          "text": [
            "Ali (Data Science): Average = 90.0 → Excellent\n",
            "Sara (AI): Average = 77.5 → Average\n",
            "Hassan (Cyber Security): Average = 83.5 → Good\n",
            "\n",
            "Top-Performing Student: Ali\n",
            "Unique Courses: {'Networks', 'ML', 'Python', 'Statistics'}\n"
          ]
        }
      ]
    },
    {
      "cell_type": "code",
      "source": [
        "# Question 2 – Course Enrollment Management System\n",
        "\n",
        "# Step a: Store available departments in a tuple\n",
        "departments = (\"Data Science\", \"AI\", \"Cyber Security\", \"Software Engineering\")\n",
        "\n",
        "# Step b: Store available courses in a set\n",
        "available_courses = {\"Python\", \"AI\", \"ML\", \"Networks\", \"Statistics\"}\n",
        "\n",
        "# Step e: Allow multiple enrollments until user types 'exit'\n",
        "while True:\n",
        "    print(\"\\n--- Course Enrollment System ---\")\n",
        "    name = input(\"Enter name (or type 'exit' to quit): \")\n",
        "\n",
        "    if name.lower() == \"exit\":\n",
        "        print(\"Enrollment session ended. Goodbye!\")\n",
        "        break\n",
        "\n",
        "    department = input(\"Enter department: \")\n",
        "    course = input(\"Enter course: \")\n",
        "\n",
        "    # Step d: Validate department and course\n",
        "    if department not in departments:\n",
        "        print(f\"Department not found. Please choose from: {departments}\")\n",
        "\n",
        "    elif course not in available_courses:\n",
        "        print(f\"Course not found. Please choose from: {available_courses}\")\n",
        "\n",
        "    else:\n",
        "        print(f\"Enrollment Successful! {name} ({department}) enrolled in {course}.\")"
      ],
      "metadata": {
        "colab": {
          "base_uri": "https://localhost:8080/"
        },
        "id": "tCcVnrrx8z5w",
        "outputId": "72dc71b0-7ff4-4c06-cf77-eaf4e9d0543b"
      },
      "execution_count": 17,
      "outputs": [
        {
          "output_type": "stream",
          "name": "stdout",
          "text": [
            "\n",
            "--- Course Enrollment System ---\n",
            "Enter name (or type 'exit' to quit): imran\n",
            "Enter department: data science\n",
            "Enter course: ml\n",
            "Department not found. Please choose from: ('Data Science', 'AI', 'Cyber Security', 'Software Engineering')\n",
            "\n",
            "--- Course Enrollment System ---\n",
            "Enter name (or type 'exit' to quit): Data Science\n",
            "Enter department: Data Science\n",
            "Enter course: ml\n",
            "Course not found. Please choose from: {'AI', 'Python', 'Networks', 'ML', 'Statistics'}\n",
            "\n",
            "--- Course Enrollment System ---\n",
            "Enter name (or type 'exit' to quit): imran\n",
            "Enter department: Data Science\n",
            "Enter course: ML\n",
            "Enrollment Successful! imran (Data Science) enrolled in ML.\n",
            "\n",
            "--- Course Enrollment System ---\n",
            "Enter name (or type 'exit' to quit): exit\n",
            "Enrollment session ended. Goodbye!\n"
          ]
        }
      ]
    },
    {
      "cell_type": "code",
      "source": [
        "# Question 3 – Department Summary and Advisor Lookup\n",
        "\n",
        "# a. Dictionary mapping departments to advisors\n",
        "advisors = {\n",
        "    \"Data Science\": \"Dr. Ahsan\",\n",
        "    \"AI\": \"Dr. Zara\",\n",
        "    \"Cyber Security\": \"Dr. Kamal\",\n",
        "    \"Software Engineering\": \"Dr. Farah\"\n",
        "}\n",
        "\n",
        "# b. Dictionary storing number of students in each department (supposed values)\n",
        "students_count = {\n",
        "    \"Data Science\": 25,\n",
        "    \"AI\": 30,\n",
        "    \"Cyber Security\": 20,\n",
        "    \"Software Engineering\": 35\n",
        "}\n",
        "\n",
        "# c. Print department summary using for loop\n",
        "print(\"=== DEPARTMENT SUMMARY ===\")\n",
        "for dept, advisor in advisors.items():\n",
        "    student_count = students_count.get(dept, 0)\n",
        "    print(f\"Department: {dept} → Students: {student_count} → Advisor: {advisor}\")\n",
        "\n",
        "print(\"\\n\" + \"=\"*50)\n",
        "\n",
        "# d. User input and advisor lookup with error handling\n",
        "department_name = input(\"\\nEnter a department name: \").strip()\n",
        "\n",
        "# Check if department exists in both dictionaries\n",
        "if department_name in advisors and department_name in students_count:\n",
        "    print(f\"\\nDepartment: {department_name}\")\n",
        "    print(f\"Students: {students_count[department_name]}\")\n",
        "    print(f\"Advisor: {advisors[department_name]}\")\n",
        "elif department_name in advisors:\n",
        "    print(f\"\\nAdvisor for {department_name}: {advisors[department_name]}\")\n",
        "    print(\"Note: Student count not available for this department\")\n",
        "else:\n",
        "    print(\"\\nNo advisor assigned for this department.\")"
      ],
      "metadata": {
        "colab": {
          "base_uri": "https://localhost:8080/"
        },
        "id": "bPBDlZE--1VG",
        "outputId": "037710f1-b072-4d08-cb6e-7fede02cadee"
      },
      "execution_count": 21,
      "outputs": [
        {
          "output_type": "stream",
          "name": "stdout",
          "text": [
            "=== DEPARTMENT SUMMARY ===\n",
            "Department: Data Science → Students: 25 → Advisor: Dr. Ahsan\n",
            "Department: AI → Students: 30 → Advisor: Dr. Zara\n",
            "Department: Cyber Security → Students: 20 → Advisor: Dr. Kamal\n",
            "Department: Software Engineering → Students: 35 → Advisor: Dr. Farah\n",
            "\n",
            "==================================================\n",
            "\n",
            "Enter a department name: AI\n",
            "\n",
            "Department: AI\n",
            "Students: 30\n",
            "Advisor: Dr. Zara\n"
          ]
        }
      ]
    },
    {
      "cell_type": "code",
      "source": [
        "# Question 4 – Employee Skill & Project Allocation System\n",
        "\n",
        "# a) List of dictionaries for employees\n",
        "employees = [\n",
        "    {\"id\": 1, \"name\": \"Ali\", \"skills\": {\"Python\", \"AI\", \"Machine Learning\"}},  # Added AI\n",
        "    {\"id\": 2, \"name\": \"Sara\", \"skills\": {\"Python\", \"SQL\", \"Excel\"}},\n",
        "    {\"id\": 3, \"name\": \"Hassan\", \"skills\": {\"Cyber Security\", \"Networking\", \"Linux\"}},\n",
        "    {\"id\": 4, \"name\": \"Ayesha\", \"skills\": {\"AI\", \"Python\", \"Deep Learning\", \"Machine Learning\"}},  # Added Machine Learning\n",
        "]\n",
        "\n",
        "# b) Dictionary for projects and their required skills\n",
        "projects = {\n",
        "    \"AI Chatbot\": {\"Python\", \"AI\", \"Machine Learning\"},\n",
        "    \"Data Dashboard\": {\"Python\", \"SQL\", \"Excel\"},\n",
        "    \"Network Monitor\": {\"Cyber Security\", \"Networking\"},\n",
        "    \"Deep Vision\": {\"AI\", \"Deep Learning\"}\n",
        "}\n",
        "\n",
        "# c) Using nested loops and set operations to determine eligibility\n",
        "for project_name, required_skills in projects.items():\n",
        "    print(f\"Project: {project_name}\")\n",
        "\n",
        "    # Check each employee for this project\n",
        "    for employee in employees:\n",
        "        # Set operation: Check if employee has ALL required skills\n",
        "        if required_skills.issubset(employee[\"skills\"]):\n",
        "            print(f\"- {employee['name']} is eligible\")\n",
        "\n",
        "    print()  # Add empty line between projects"
      ],
      "metadata": {
        "colab": {
          "base_uri": "https://localhost:8080/"
        },
        "id": "FzWXdSVXAfA0",
        "outputId": "5e7a70bd-6ee2-4e12-8273-eaf2104c60a8"
      },
      "execution_count": 23,
      "outputs": [
        {
          "output_type": "stream",
          "name": "stdout",
          "text": [
            "Project: AI Chatbot\n",
            "- Ali is eligible\n",
            "- Ayesha is eligible\n",
            "\n",
            "Project: Data Dashboard\n",
            "- Sara is eligible\n",
            "\n",
            "Project: Network Monitor\n",
            "- Hassan is eligible\n",
            "\n",
            "Project: Deep Vision\n",
            "- Ayesha is eligible\n",
            "\n"
          ]
        }
      ]
    }
  ]
}