{
  "nbformat": 4,
  "nbformat_minor": 0,
  "metadata": {
    "colab": {
      "provenance": [],
      "authorship_tag": "ABX9TyP54esoflKdO4MlcC5eSVEk",
      "include_colab_link": true
    },
    "kernelspec": {
      "name": "python3",
      "display_name": "Python 3"
    },
    "language_info": {
      "name": "python"
    }
  },
  "cells": [
    {
      "cell_type": "markdown",
      "metadata": {
        "id": "view-in-github",
        "colab_type": "text"
      },
      "source": [
        "<a href=\"https://colab.research.google.com/github/memrranmian/my-first-repo1/blob/main/MSDSF25A007__Assignment2.ipynb\" target=\"_parent\"><img src=\"https://colab.research.google.com/assets/colab-badge.svg\" alt=\"Open In Colab\"/></a>"
      ]
    },
    {
      "cell_type": "code",
      "source": [
        "# Q1. Student Transcript Generator (10 marks)\n",
        "# Design a program that:\n",
        "# 1. Take student name, roll number, and marks in 5 subjects.\n",
        "# 2. Validate marks (must be between 0–100). If invalid, ask again.\n",
        "# 3. Calculate: total, average, grade (A/B/C/F).\n",
        "# 4. If any subject is < 40, grade becomes \"Fail\" regardless of average.\n",
        "# 5. Display results in a table-like formatted transcript.\n",
        "\n",
        "\n",
        "from tabulate import tabulate\n",
        "\n",
        "name = input(\"Enter student name: \")\n",
        "roll_number = input(\"Enter roll number: \")\n",
        "\n",
        "marks = list(range(5))\n",
        "for i in range(5):\n",
        "    while True:\n",
        "        try:\n",
        "            mark = float(input(f\"Enter marks for Subject {i+1} (0-100): \"))\n",
        "            if 0 <= mark <= 100:\n",
        "                marks[i] = mark\n",
        "                break\n",
        "            else:\n",
        "                print(\"Invalid marks! Must be between 0 and 100.\")\n",
        "        except ValueError:\n",
        "            print(\"Invalid input! Please enter a number.\")\n",
        "\n",
        "total = sum(marks)\n",
        "average = total / 5\n",
        "\n",
        "if any(mark < 40 for mark in marks):\n",
        "    grade = \"F\"\n",
        "else:\n",
        "    if average >= 90:\n",
        "        grade = \"A\"\n",
        "    elif average >= 80:\n",
        "        grade = \"B\"\n",
        "    elif average >= 60:\n",
        "        grade = \"C\"\n",
        "    else:\n",
        "        grade = \"F\"\n",
        "\n",
        "\n",
        "table_data = [\n",
        "    [\"Name\", name],\n",
        "    [\"Roll Number\", roll_number],\n",
        "    *[[f\"Subject {i+1}\", marks[i]] for i in range(5)],\n",
        "    [\"Total\", total],\n",
        "    [\"Average\", average],\n",
        "    [\"Grade\", grade]\n",
        "]\n",
        "\n",
        "\n",
        "print(\"\\nStudent Result\")\n",
        "print(tabulate(table_data, headers=[\"Field\", \"Value\"], tablefmt=\"grid\"))"
      ],
      "metadata": {
        "colab": {
          "base_uri": "https://localhost:8080/"
        },
        "id": "Zn973vFN49Ae",
        "outputId": "c33b8212-f2d6-47a6-96e7-110c12a5a16e"
      },
      "execution_count": 15,
      "outputs": [
        {
          "output_type": "stream",
          "name": "stdout",
          "text": [
            "Enter student name: Affan\n",
            "Enter roll number: 41\n",
            "Enter marks for Subject 1 (0-100): 50\n",
            "Enter marks for Subject 2 (0-100): 60\n",
            "Enter marks for Subject 3 (0-100): 70\n",
            "Enter marks for Subject 4 (0-100): 80\n",
            "Enter marks for Subject 5 (0-100): 90\n",
            "\n",
            "Student Result\n",
            "+-------------+---------+\n",
            "| Field       | Value   |\n",
            "+=============+=========+\n",
            "| Name        | Affan   |\n",
            "+-------------+---------+\n",
            "| Roll Number | 41      |\n",
            "+-------------+---------+\n",
            "| Subject 1   | 50.0    |\n",
            "+-------------+---------+\n",
            "| Subject 2   | 60.0    |\n",
            "+-------------+---------+\n",
            "| Subject 3   | 70.0    |\n",
            "+-------------+---------+\n",
            "| Subject 4   | 80.0    |\n",
            "+-------------+---------+\n",
            "| Subject 5   | 90.0    |\n",
            "+-------------+---------+\n",
            "| Total       | 350.0   |\n",
            "+-------------+---------+\n",
            "| Average     | 70.0    |\n",
            "+-------------+---------+\n",
            "| Grade       | C       |\n",
            "+-------------+---------+\n"
          ]
        }
      ]
    },
    {
      "cell_type": "code",
      "source": [
        "# Q2. Smart Calculator with Memory (10 marks)\n",
        "# Write a program that:\n",
        "# 1. Allow user to input an arithmetic expression (e.g., 25 + 3 * 2).\n",
        "# 2. Store the last result in a variable memory.\n",
        "# 3. User can use memory in new expressions (e.g., memory / 5).\n",
        "# 4. Bonus: Handle division by zero using error handling.\n",
        "\n"
      ],
      "metadata": {
        "id": "tBzdNvLW8PW8"
      },
      "execution_count": null,
      "outputs": []
    }
  ]
}