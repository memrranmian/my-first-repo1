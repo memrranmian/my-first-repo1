{
  "nbformat": 4,
  "nbformat_minor": 0,
  "metadata": {
    "colab": {
      "provenance": [],
      "authorship_tag": "ABX9TyMSlQ9y+C3P7DFXulDDy1Za",
      "include_colab_link": true
    },
    "kernelspec": {
      "name": "python3",
      "display_name": "Python 3"
    },
    "language_info": {
      "name": "python"
    }
  },
  "cells": [
    {
      "cell_type": "markdown",
      "metadata": {
        "id": "view-in-github",
        "colab_type": "text"
      },
      "source": [
        "<a href=\"https://colab.research.google.com/github/memrranmian/my-first-repo1/blob/main/MSDSF25A007__Assignment2.ipynb\" target=\"_parent\"><img src=\"https://colab.research.google.com/assets/colab-badge.svg\" alt=\"Open In Colab\"/></a>"
      ]
    },
    {
      "cell_type": "code",
      "source": [
        "# Q1. Student Transcript Generator (10 marks)\n",
        "# Design a program that:\n",
        "# 1. Take student name, roll number, and marks in 5 subjects.\n",
        "# 2. Validate marks (must be between 0–100). If invalid, ask again.\n",
        "# 3. Calculate: total, average, grade (A/B/C/F).\n",
        "# 4. If any subject is < 40, grade becomes \"Fail\" regardless of average.\n",
        "# 5. Display results in a table-like formatted transcript.\n",
        "\n",
        "\n",
        "from tabulate import tabulate\n",
        "\n",
        "name = input(\"Enter student name: \")\n",
        "roll_number = input(\"Enter roll number: \")\n",
        "\n",
        "marks = list(range(5))\n",
        "for i in range(5):\n",
        "    while True:\n",
        "        try:\n",
        "            mark = float(input(f\"Enter marks for Subject {i+1} (0-100): \"))\n",
        "            if 0 <= mark <= 100:\n",
        "                marks[i] = mark\n",
        "                break\n",
        "            else:\n",
        "                print(\"Invalid marks! Must be between 0 and 100.\")\n",
        "        except ValueError:\n",
        "            print(\"Invalid input! Please enter a number.\")\n",
        "\n",
        "total = sum(marks)\n",
        "average = total / 5\n",
        "\n",
        "if any(mark < 40 for mark in marks):\n",
        "    grade = \"F\"\n",
        "else:\n",
        "    if average >= 90:\n",
        "        grade = \"A\"\n",
        "    elif average >= 80:\n",
        "        grade = \"B\"\n",
        "    elif average >= 60:\n",
        "        grade = \"C\"\n",
        "    else:\n",
        "        grade = \"F\"\n",
        "\n",
        "\n",
        "table_data = [\n",
        "    [\"Name\", name],\n",
        "    [\"Roll Number\", roll_number],\n",
        "    *[[f\"Subject {i+1}\", marks[i]] for i in range(5)],\n",
        "    [\"Total\", total],\n",
        "    [\"Average\", average],\n",
        "    [\"Grade\", grade]\n",
        "]\n",
        "\n",
        "\n",
        "print(\"\\nStudent Result\")\n",
        "print(tabulate(table_data, headers=[\"Field\", \"Value\"], tablefmt=\"grid\"))"
      ],
      "metadata": {
        "colab": {
          "base_uri": "https://localhost:8080/"
        },
        "id": "Zn973vFN49Ae",
        "outputId": "c33b8212-f2d6-47a6-96e7-110c12a5a16e"
      },
      "execution_count": 15,
      "outputs": [
        {
          "output_type": "stream",
          "name": "stdout",
          "text": [
            "Enter student name: Affan\n",
            "Enter roll number: 41\n",
            "Enter marks for Subject 1 (0-100): 50\n",
            "Enter marks for Subject 2 (0-100): 60\n",
            "Enter marks for Subject 3 (0-100): 70\n",
            "Enter marks for Subject 4 (0-100): 80\n",
            "Enter marks for Subject 5 (0-100): 90\n",
            "\n",
            "Student Result\n",
            "+-------------+---------+\n",
            "| Field       | Value   |\n",
            "+=============+=========+\n",
            "| Name        | Affan   |\n",
            "+-------------+---------+\n",
            "| Roll Number | 41      |\n",
            "+-------------+---------+\n",
            "| Subject 1   | 50.0    |\n",
            "+-------------+---------+\n",
            "| Subject 2   | 60.0    |\n",
            "+-------------+---------+\n",
            "| Subject 3   | 70.0    |\n",
            "+-------------+---------+\n",
            "| Subject 4   | 80.0    |\n",
            "+-------------+---------+\n",
            "| Subject 5   | 90.0    |\n",
            "+-------------+---------+\n",
            "| Total       | 350.0   |\n",
            "+-------------+---------+\n",
            "| Average     | 70.0    |\n",
            "+-------------+---------+\n",
            "| Grade       | C       |\n",
            "+-------------+---------+\n"
          ]
        }
      ]
    },
    {
      "cell_type": "code",
      "source": [
        "# Q2. Smart Calculator with Memory (10 marks)\n",
        "# Write a program that:\n",
        "# 1. Allow user to input an arithmetic expression (e.g., 25 + 3 * 2).\n",
        "# 2. Store the last result in a variable memory.\n",
        "# 3. User can use memory in new expressions (e.g., memory / 5).\n",
        "# 4. Bonus: Handle division by zero using error handling.\n",
        "\n",
        "\n",
        "\n",
        "\n",
        "memory = 0\n",
        "\n",
        "print(\"Smart Calculator with memory function. Use 'memory' to refer to the last result.\")\n",
        "\n",
        "while True:\n",
        "\n",
        "    expression = input(\"Enter Math expression: \").strip()\n",
        "\n",
        "\n",
        "    if 'memory' in expression:\n",
        "        expression = expression.replace('memory', str(memory))\n",
        "\n",
        "\n",
        "    try:\n",
        "        result = eval(expression)\n",
        "        memory = result\n",
        "\n",
        "        print(\"Result:\", result)\n",
        "    except ZeroDivisionError:\n",
        "        print(\"Error: Cannot divide by zero!\")\n",
        "    except:\n",
        "        print(\"Error: Invalid expression. Please try again.\")\n"
      ],
      "metadata": {
        "colab": {
          "base_uri": "https://localhost:8080/"
        },
        "id": "tBzdNvLW8PW8",
        "outputId": "4b72161c-6c17-4c89-92b9-94c0ec148eb9"
      },
      "execution_count": null,
      "outputs": [
        {
          "metadata": {
            "tags": null
          },
          "name": "stdout",
          "output_type": "stream",
          "text": [
            "Smart Calculator with memory function. Use 'memory' to refer to the last result.\n",
            "Result: 37\n",
            "Error: Cannot divide by zero!\n",
            "Result: 28\n",
            "Result: 1\n",
            "Error: Invalid expression. Please try again.\n",
            "Result: 2\n"
          ]
        }
      ]
    },
    {
      "cell_type": "code",
      "source": [
        "# Q3. Company Email & Password Generator (10 marks)\n",
        "# The company now requires stronger passwords:\n",
        "# 1. Input: employee_name, joining_year, department.\n",
        "# 2. Email = lowercase name + \".\" + department + last two digits of year + @company.com.\n",
        "# Example: sara.it23@company.com\n",
        "# 3. Password rule:\n",
        "# 1. First 2 uppercase letters of name\n",
        "# 2. Length of department\n",
        "# 3. Sum of ASCII values of all characters in name + department\n",
        "# 4. A random special character from [\"@\", \"#\", \"$\", \"%\"] (choose using modulus\n",
        "# operator).\n",
        "\n",
        "# Company Email and Password Generator\n",
        "# Simple program to make email and password\n",
        "\n",
        "# Get inputs from user\n",
        "employee_name = input(\"Enter employee name: \")\n",
        "joining_year = input(\"Enter joining year: \")\n",
        "department = input(\"Enter department: \")\n",
        "\n",
        "# Make email\n",
        "# Lowercase name + dot + department + last two digits of year + @company.com\n",
        "name_lower = employee_name.lower()\n",
        "last_two_digits = joining_year[-2:]  # Last two characters of year\n",
        "email = name_lower + \".\" + department + last_two_digits + \"@company.com\"\n",
        "\n",
        "# Now make password\n",
        "# First two letters uppercase\n",
        "first_two_upper = employee_name[0:2].upper()\n",
        "\n",
        "# Length of department\n",
        "dept_length = str(len(department))\n",
        "\n",
        "# Sum of ASCII values of name + department\n",
        "ascii_sum = 0\n",
        "all_chars = employee_name + department\n",
        "for char in all_chars:\n",
        "    ascii_sum += ord(char)\n",
        "ascii_sum_str = str(ascii_sum)\n",
        "\n",
        "# Random special character using modulus\n",
        "special_chars = [\"@\", \"#\", \"$\", \"%\"]\n",
        "year_num = int(joining_year)\n",
        "index = year_num % 4\n",
        "special_char = special_chars[index]\n",
        "\n",
        "# Put password together\n",
        "password = first_two_upper + dept_length + ascii_sum_str + special_char\n",
        "\n",
        "# Show the results\n",
        "print(\"Generated Email:\", email)\n",
        "print(\"Generated Password:\", password)\n",
        "\n"
      ],
      "metadata": {
        "colab": {
          "base_uri": "https://localhost:8080/"
        },
        "id": "XWwnnMcLIfEQ",
        "outputId": "0b2f3185-5436-456a-a60d-d565e3692214"
      },
      "execution_count": 2,
      "outputs": [
        {
          "output_type": "stream",
          "name": "stdout",
          "text": [
            "Enter employee name: ali imran\n",
            "Enter joining year: 2022\n",
            "Enter department: sales\n",
            "Generated Email: ali imran.sales22@company.com\n",
            "Generated Password: AL51413$\n"
          ]
        }
      ]
    },
    {
      "cell_type": "code",
      "source": [
        "# Q4. Research Data Cleaning\n",
        "# You are cleaning survey responses stored as strings.\n",
        "# Survey response: \" Ali, 20, Data Science, Lahore , ali@email.com \"\n",
        "# 1. Clean spaces & split into fields.\n",
        "# 2. Extract: Name, Age, Subject, City, Email.\n",
        "# 3. Validate Email (must contain \"@\" and end with \".com\").\n",
        "# 4. Validate Age (must be integer between 18–60).\n",
        "# 5. Count words in Subject and display in formatted output.\n",
        "# 6. Bonus: Count how many words are in Subject using. split().\n",
        "\n",
        "\n",
        "\n",
        "# Survey Data Cleaning\n",
        "# Clean the response and extract info\n",
        "\n",
        "response = \" Ali, 20, Data Science, Lahore , ali@email.com \"\n",
        "\n",
        "\n",
        "# Clean spaces: remove leading and trailing spaces\n",
        "response = response.strip()\n",
        "\n",
        "# Split by comma and clean each part\n",
        "parts = []\n",
        "for part in response.split(','):\n",
        "    clean_part = part.strip()\n",
        "    parts.append(clean_part)\n",
        "\n",
        "# Extract fields\n",
        "name = parts[0]\n",
        "age_str = parts[1]\n",
        "subject = parts[2]\n",
        "city = parts[3]\n",
        "email = parts[4]\n",
        "\n",
        "# Validate Email\n",
        "email_valid = False\n",
        "if '@' in email and email.endswith('.com'):\n",
        "    email_valid = True\n",
        "\n",
        "# Validate Age\n",
        "age_valid = False\n",
        "try:\n",
        "    age = int(age_str)\n",
        "    if 18 <= age <= 60:\n",
        "        age_valid = True\n",
        "except:\n",
        "    age_valid = False\n",
        "\n",
        "# Count words in Subject using split()\n",
        "word_count = len(subject.split())\n",
        "\n",
        "# Display formatted output\n",
        "print(\"Cleaned Survey Data:\")\n",
        "print(\"Name:\", name)\n",
        "print(\"Age:\", age_str, \"- Valid:\", age_valid)\n",
        "print(\"Subject:\", subject, \"- Words:\", word_count)\n",
        "print(\"City:\", city)\n",
        "print(\"Email:\", email, \"- Valid:\", email_valid)"
      ],
      "metadata": {
        "colab": {
          "base_uri": "https://localhost:8080/"
        },
        "id": "AcB6-tfM2v15",
        "outputId": "dd738e8c-4cd5-4f51-ab24-0382108d0ce1"
      },
      "execution_count": 6,
      "outputs": [
        {
          "output_type": "stream",
          "name": "stdout",
          "text": [
            "Cleaned Survey Data:\n",
            "Name: Ali\n",
            "Age: 20 - Valid: True\n",
            "Subject: Data Science - Words: 2\n",
            "City: Lahore\n",
            "Email: ali@email.com - Valid: True\n"
          ]
        }
      ]
    },
    {
      "cell_type": "code",
      "source": [
        "# Q5. Palindrome & Word Analyzer\n",
        "# Write a program that:\n",
        "# 1. Takes a word/sentence as input.\n",
        "# 2. Removes spaces & converts to lowercase.\n",
        "# 3. Checks if it is a palindrome.\n",
        "# 4. Counts: total characters, vowels, and special symbols.\n",
        "# 5. Prints results:\n",
        "#   Word: \"Level\"\n",
        "#   Palindrome : True\n",
        "#   Characters: 5\n",
        "#   Vowels : 2\n",
        "#   Symbols : 0\n",
        "# Note: Special Symbols (! @ # $ % ^ & * ( ) - _ = + { } [ ] : ; \" ' < > , . ? /)\n",
        "\n",
        "\n",
        "\n",
        "\n",
        "# Palindrome and Word Analyzer\n",
        "# Simple program to check palindrome and count things\n",
        "\n",
        "def clean_text(text):\n",
        "    # Remove spaces and convert to lowercase\n",
        "    no_spaces = text.replace(\" \", \"\")\n",
        "    lowercase = no_spaces.lower()\n",
        "    return lowercase\n",
        "\n",
        "# Get input\n",
        "original = input(\"Enter a word or sentence: \")\n",
        "\n",
        "# Clean using the function\n",
        "cleaned = clean_text(original)\n",
        "\n",
        "# Check palindrome: make reverse\n",
        "reverse = \"\"\n",
        "for char in cleaned:\n",
        "    reverse = char + reverse\n",
        "\n",
        "is_palindrome = cleaned == reverse\n",
        "\n",
        "# Total characters\n",
        "total_chars = len(cleaned)\n",
        "\n",
        "# Count vowels\n",
        "vowels = 0\n",
        "vowels_list = \"aeiou\"\n",
        "for char in cleaned:\n",
        "    if char in vowels_list:\n",
        "        vowels = vowels + 1\n",
        "\n",
        "# Count special symbols\n",
        "symbols = 0\n",
        "symbols_str = \"!@#$%^&*()_-=+{}[]:;'\\\"<>.,?/\"\n",
        "for char in cleaned:\n",
        "    if char in symbols_str:\n",
        "        symbols = symbols + 1\n",
        "\n",
        "# Print results\n",
        "print('Word: \"' + original + '\"')\n",
        "print(\"Sapces Removed & lower case: \", cleaned)\n",
        "print(\"Palindrome :\", is_palindrome)\n",
        "print(\"Characters:\", total_chars)\n",
        "print(\"Vowels :\", vowels)\n",
        "print(\"Symbols :\", symbols)"
      ],
      "metadata": {
        "colab": {
          "base_uri": "https://localhost:8080/"
        },
        "id": "VCyXNwZv7du_",
        "outputId": "8e8da516-6896-4b86-f025-ffe344b2326b"
      },
      "execution_count": 12,
      "outputs": [
        {
          "output_type": "stream",
          "name": "stdout",
          "text": [
            "Enter a word or sentence: AL51413$ jacked 1234\n",
            "Word: \"AL51413$ jacked 1234\"\n",
            "Sapces Removed & lower case:  al51413$jacked1234\n",
            "Palindrome : False\n",
            "Characters: 18\n",
            "Vowels : 3\n",
            "Symbols : 1\n"
          ]
        }
      ]
    },
    {
      "cell_type": "code",
      "source": [
        "# Q6. Travel Cost Calculator\n",
        "# A travel company calculates cost:\n",
        "# • Cost per km = 25\n",
        "# • If distance > 500 km, apply 5% discount.\n",
        "# • If passengers > 4, add 10% extra charge to the total.\n",
        "# Task:\n",
        "# 1. Take inputs: distance (km) and passengers.\n",
        "# 2. Calculate total cost after applying discount/extra charges.\n",
        "# 3. Print the final payable cost.\n",
        "\n",
        "\n",
        "# Travel Cost Calculator\n",
        "# Simple program to calculate travel cost\n",
        "\n",
        "# Get inputs\n",
        "distance = float(input(\"Enter distance in km: \"))\n",
        "passengers = int(input(\"Enter number of passengers: \"))\n",
        "\n",
        "# Base cost\n",
        "base_cost = distance * 25\n",
        "\n",
        "# Apply discount if distance > 500\n",
        "total_cost = base_cost\n",
        "if distance > 500:\n",
        "    total_cost = base_cost * 0.95\n",
        "\n",
        "# Add extra charge if passengers > 4\n",
        "if passengers > 4:\n",
        "    total_cost = total_cost * 1.10\n",
        "\n",
        "# Print final cost\n",
        "print(\"Final payable cost:\", total_cost)"
      ],
      "metadata": {
        "colab": {
          "base_uri": "https://localhost:8080/"
        },
        "id": "q8KVIhfJ-mak",
        "outputId": "301e9993-7402-4cdb-d20e-91ec813b7845"
      },
      "execution_count": 18,
      "outputs": [
        {
          "output_type": "stream",
          "name": "stdout",
          "text": [
            "Enter distance in km: 1\n",
            "Enter number of passengers: 4\n",
            "Final payable cost: 25.0\n"
          ]
        }
      ]
    },
    {
      "cell_type": "code",
      "source": [
        "# Q7. Hospital Patient Record\n",
        "# A hospital wants to keep a simple patient record.\n",
        "# Task:\n",
        "# 1. Ask the user to input patient’s name, age, and disease (use variables).\n",
        "# 2. Calculate how many years are left until the patient turns 60.\n",
        "# 3. Print a formatted string\n",
        "\n",
        "\n",
        "# Hospital Patient Record\n",
        "# Simple program to record patient info\n",
        "\n",
        "# Get inputs from user\n",
        "name = input(\"Enter patient's name: \")\n",
        "age = int(input(\"Enter patient's age: \"))\n",
        "disease = input(\"Enter patient's disease: \")\n",
        "\n",
        "# Calculate years left to 60\n",
        "years_left = 60 - age\n",
        "\n",
        "# Print formatted string\n",
        "print(\"Patient \" + name + \" (age \" + str(age) + \") is diagnosed with \" + disease + \".\")\n",
        "print(\"Years left until 60: \" + str(years_left) + \".\")"
      ],
      "metadata": {
        "colab": {
          "base_uri": "https://localhost:8080/"
        },
        "id": "0wQ-UI3g-xnI",
        "outputId": "512cf6df-aaac-4640-d40d-4afcea0c66fe"
      },
      "execution_count": 19,
      "outputs": [
        {
          "output_type": "stream",
          "name": "stdout",
          "text": [
            "Enter patient's name: rafique\n",
            "Enter patient's age: 46\n",
            "Enter patient's disease: cancer\n",
            "Patient rafique (age 46) is diagnosed with cancer.\n",
            "Years left until 60: 14.\n"
          ]
        }
      ]
    }
  ]
}