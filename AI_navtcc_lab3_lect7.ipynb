{
  "nbformat": 4,
  "nbformat_minor": 0,
  "metadata": {
    "colab": {
      "provenance": [],
      "authorship_tag": "ABX9TyPAvLl7brlMtJFPgqEOn9kF",
      "include_colab_link": true
    },
    "kernelspec": {
      "name": "python3",
      "display_name": "Python 3"
    },
    "language_info": {
      "name": "python"
    }
  },
  "cells": [
    {
      "cell_type": "markdown",
      "metadata": {
        "id": "view-in-github",
        "colab_type": "text"
      },
      "source": [
        "<a href=\"https://colab.research.google.com/github/memrranmian/my-first-repo1/blob/main/AI_navtcc_lab3_lect7.ipynb\" target=\"_parent\"><img src=\"https://colab.research.google.com/assets/colab-badge.svg\" alt=\"Open In Colab\"/></a>"
      ]
    },
    {
      "cell_type": "code",
      "execution_count": null,
      "metadata": {
        "id": "e-NqZwUwP_V2"
      },
      "outputs": [],
      "source": [
        "i = 10\n",
        "if (i > 15):\n",
        "    print (\"10 is less than 15\")\n",
        "    print (\"I am Not in if\")"
      ]
    },
    {
      "cell_type": "code",
      "source": [
        "i = 18\n",
        "if (i > 15):\n",
        "    print (\"10 is less than 15\")\n",
        "    print (\"I am Not in if\")"
      ],
      "metadata": {
        "colab": {
          "base_uri": "https://localhost:8080/"
        },
        "id": "dmOnjSqrRr0l",
        "outputId": "d1fce5d5-f387-4f74-df03-5f554a87d21d"
      },
      "execution_count": null,
      "outputs": [
        {
          "output_type": "stream",
          "name": "stdout",
          "text": [
            "10 is less than 15\n",
            "I am Not in if\n"
          ]
        }
      ]
    },
    {
      "cell_type": "code",
      "source": [
        "i = 20;\n",
        "if (i < 15):\n",
        "    print (\"i is smaller than 15\")\n",
        "    print (\"i'm in if Block\")\n",
        "else:\n",
        "    print (\"i is greater than 15\")\n",
        "    print (\"i'm in else Block\")\n",
        "print (\"i'm not in if and not in else Block\")"
      ],
      "metadata": {
        "colab": {
          "base_uri": "https://localhost:8080/"
        },
        "id": "a4tQhGJVRzdc",
        "outputId": "c79341c7-a3bf-4732-a096-75cdf76611f4"
      },
      "execution_count": null,
      "outputs": [
        {
          "output_type": "stream",
          "name": "stdout",
          "text": [
            "i is greater than 15\n",
            "i'm in else Block\n",
            "i'm not in if and not in else Block\n"
          ]
        }
      ]
    },
    {
      "cell_type": "code",
      "source": [
        "i = 10\n",
        "if (i == 10):\n",
        "    # First if statement\n",
        "    if (i < 15):\n",
        "        print (\"i is smaller than 15\")\n",
        "    # Nested - if statement\n",
        "    # Will only be executed if statement above\n",
        "    # it is true\n",
        "    if (i < 12):\n",
        "        print (\"i is smaller than 12 too\")\n",
        "    else:\n",
        "        print (\"i is greater than 15\")"
      ],
      "metadata": {
        "colab": {
          "base_uri": "https://localhost:8080/"
        },
        "id": "KY5dOSG1R3t5",
        "outputId": "864b0dc8-35dd-459e-f596-a2f6d088dfd5"
      },
      "execution_count": null,
      "outputs": [
        {
          "output_type": "stream",
          "name": "stdout",
          "text": [
            "i is smaller than 15\n",
            "i is smaller than 12 too\n"
          ]
        }
      ]
    },
    {
      "cell_type": "code",
      "source": [
        "i = 20\n",
        "if (i == 10):\n",
        "    print (\"i is 10\")\n",
        "elif (i == 15):\n",
        "    print (\"i is 15\")\n",
        "elif (i == 20):\n",
        "    print (\"i is 20\")\n",
        "else:\n",
        "    print (\"i is not present\")"
      ],
      "metadata": {
        "colab": {
          "base_uri": "https://localhost:8080/"
        },
        "id": "iuphu5tsR7dZ",
        "outputId": "e94e4872-e7c5-4fbf-a932-f9889cffcd1a"
      },
      "execution_count": null,
      "outputs": [
        {
          "output_type": "stream",
          "name": "stdout",
          "text": [
            "i is 20\n"
          ]
        }
      ]
    },
    {
      "cell_type": "code",
      "source": [
        "x = 1\n",
        "type (x)"
      ],
      "metadata": {
        "colab": {
          "base_uri": "https://localhost:8080/"
        },
        "id": "Zg6Va2SSp3bI",
        "outputId": "0c6d7916-5bd0-4a27-90e3-7b1df8b88356"
      },
      "execution_count": null,
      "outputs": [
        {
          "output_type": "execute_result",
          "data": {
            "text/plain": [
              "int"
            ]
          },
          "metadata": {},
          "execution_count": 7
        }
      ]
    },
    {
      "cell_type": "code",
      "source": [
        "a=int(10/2)\n",
        "b=10/2\n",
        "print (a , b , type(a) , type(b))"
      ],
      "metadata": {
        "colab": {
          "base_uri": "https://localhost:8080/"
        },
        "id": "4tjOhOgat-Oa",
        "outputId": "a7413be1-51b7-40c6-8945-d5717c4ec1e2"
      },
      "execution_count": 9,
      "outputs": [
        {
          "output_type": "stream",
          "name": "stdout",
          "text": [
            "5 5.0 <class 'int'> <class 'float'>\n"
          ]
        }
      ]
    },
    {
      "cell_type": "code",
      "source": [
        "sval = '123'\n",
        "ival = ('1','2','3')\n",
        "print (sval)\n",
        "print (ival)\n",
        "type (sval)\n",
        "type (ival)\n",
        "\n",
        "print (int(sval))\n",
        "\n",
        "\n",
        "type (sval)\n",
        "\n",
        "type (ival)\n"
      ],
      "metadata": {
        "colab": {
          "base_uri": "https://localhost:8080/"
        },
        "id": "WIlycyH4veh9",
        "outputId": "da68c37d-f6c0-4d24-c955-c4087f3dda21"
      },
      "execution_count": 24,
      "outputs": [
        {
          "output_type": "stream",
          "name": "stdout",
          "text": [
            "123\n",
            "('1', '2', '3')\n",
            "123\n"
          ]
        },
        {
          "output_type": "execute_result",
          "data": {
            "text/plain": [
              "tuple"
            ]
          },
          "metadata": {},
          "execution_count": 24
        }
      ]
    }
  ]
}