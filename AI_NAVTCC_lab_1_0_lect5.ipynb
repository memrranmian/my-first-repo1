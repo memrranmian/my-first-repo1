{
  "nbformat": 4,
  "nbformat_minor": 0,
  "metadata": {
    "colab": {
      "provenance": [],
      "authorship_tag": "ABX9TyNTVGav5TPpzdx+YMzkMLIc",
      "include_colab_link": true
    },
    "kernelspec": {
      "name": "python3",
      "display_name": "Python 3"
    },
    "language_info": {
      "name": "python"
    }
  },
  "cells": [
    {
      "cell_type": "markdown",
      "metadata": {
        "id": "view-in-github",
        "colab_type": "text"
      },
      "source": [
        "<a href=\"https://colab.research.google.com/github/memrranmian/my-first-repo1/blob/main/AI_NAVTCC_lab_1_0_lect5.ipynb\" target=\"_parent\"><img src=\"https://colab.research.google.com/assets/colab-badge.svg\" alt=\"Open In Colab\"/></a>"
      ]
    },
    {
      "cell_type": "code",
      "execution_count": null,
      "metadata": {
        "colab": {
          "base_uri": "https://localhost:8080/"
        },
        "id": "W5cJLmYvsX0q",
        "outputId": "0cd72126-91b3-47cf-a6d5-3ef6d13ebbba"
      },
      "outputs": [
        {
          "output_type": "stream",
          "name": "stdout",
          "text": [
            "Hello Ahmad\n",
            "Hello Ali\n",
            "Hello Hassan\n"
          ]
        }
      ],
      "source": [
        "friends = [\"Ahmad\",\"Ali\",'Hassan']\n",
        "for friend in friends:\n",
        " print(\"Hello\", friend)"
      ]
    },
    {
      "cell_type": "code",
      "source": [
        "\n",
        "number =1\n",
        "while number<10:\n",
        " print (number)\n",
        " number +=1"
      ],
      "metadata": {
        "colab": {
          "base_uri": "https://localhost:8080/"
        },
        "id": "0lS560-Gt40o",
        "outputId": "f71719fb-cc24-499e-d9ea-e56a1a91c85f"
      },
      "execution_count": null,
      "outputs": [
        {
          "output_type": "stream",
          "name": "stdout",
          "text": [
            "1\n",
            "2\n",
            "3\n",
            "4\n",
            "5\n",
            "6\n",
            "7\n",
            "8\n",
            "9\n"
          ]
        }
      ]
    },
    {
      "cell_type": "code",
      "source": [
        "def greet(name):\n",
        " print (\"hello\",name)\n",
        "greet('Ali')"
      ],
      "metadata": {
        "colab": {
          "base_uri": "https://localhost:8080/"
        },
        "id": "yheZvakGuNuO",
        "outputId": "49316447-fbeb-4ae2-ad15-f954886e1388"
      },
      "execution_count": null,
      "outputs": [
        {
          "output_type": "stream",
          "name": "stdout",
          "text": [
            "hello Ali\n"
          ]
        }
      ]
    },
    {
      "cell_type": "code",
      "source": [
        "def add1 (a,b):\n",
        " return a+b\n",
        "\n",
        "print (add1(2,3))"
      ],
      "metadata": {
        "colab": {
          "base_uri": "https://localhost:8080/"
        },
        "id": "FAxIwqZQvCeT",
        "outputId": "24bbfb75-758b-4801-cbd3-46d4fe5575cb"
      },
      "execution_count": null,
      "outputs": [
        {
          "output_type": "stream",
          "name": "stdout",
          "text": [
            "5\n"
          ]
        }
      ]
    },
    {
      "cell_type": "code",
      "source": [
        "def greet(name = \"Student\"):\n",
        " return \"Hello \"+name+\"!\"\n",
        "print(greet())\n",
        "print(greet('umer'))"
      ],
      "metadata": {
        "colab": {
          "base_uri": "https://localhost:8080/"
        },
        "id": "5CVMFcHVvqsU",
        "outputId": "7f52190e-ebcb-40b9-9502-742daa596d13"
      },
      "execution_count": null,
      "outputs": [
        {
          "output_type": "stream",
          "name": "stdout",
          "text": [
            "Hello Student!\n",
            "Hello umer!\n"
          ]
        }
      ]
    }
  ]
}