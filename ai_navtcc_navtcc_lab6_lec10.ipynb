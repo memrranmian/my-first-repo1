{
  "nbformat": 4,
  "nbformat_minor": 0,
  "metadata": {
    "colab": {
      "provenance": [],
      "authorship_tag": "ABX9TyOhcKFQgIeqOigvSMW+dnnE",
      "include_colab_link": true
    },
    "kernelspec": {
      "name": "python3",
      "display_name": "Python 3"
    },
    "language_info": {
      "name": "python"
    }
  },
  "cells": [
    {
      "cell_type": "markdown",
      "metadata": {
        "id": "view-in-github",
        "colab_type": "text"
      },
      "source": [
        "<a href=\"https://colab.research.google.com/github/memrranmian/my-first-repo1/blob/main/ai_navtcc_navtcc_lab6_lec10.ipynb\" target=\"_parent\"><img src=\"https://colab.research.google.com/assets/colab-badge.svg\" alt=\"Open In Colab\"/></a>"
      ]
    },
    {
      "cell_type": "code",
      "execution_count": 4,
      "metadata": {
        "id": "mXdOoITuRe03"
      },
      "outputs": [],
      "source": [
        "def thing():\n",
        "  print('hello\\nfun')\n",
        "  return"
      ]
    },
    {
      "cell_type": "code",
      "source": [
        "def thing()\n",
        "  print('hello\\nfun')\n",
        "thing()\n",
        "print('zip')\n",
        "thing()"
      ],
      "metadata": {
        "colab": {
          "base_uri": "https://localhost:8080/"
        },
        "id": "RU0eafFFgZoH",
        "outputId": "bf8acc07-e7bb-4c61-a18f-a192d327bab3"
      },
      "execution_count": 6,
      "outputs": [
        {
          "output_type": "stream",
          "name": "stdout",
          "text": [
            "hello\n",
            "fun\n",
            "zip\n",
            "hello\n",
            "fun\n"
          ]
        }
      ]
    },
    {
      "cell_type": "code",
      "source": [
        "#max give the max alphabhet in terms of there count in alphbetical order, same for min spacebar has least count\n",
        "big = max('Hello world')\n",
        "print(big)\n",
        "tiny = min('Hello world')\n",
        "print(tiny)"
      ],
      "metadata": {
        "colab": {
          "base_uri": "https://localhost:8080/"
        },
        "id": "_Hp2p1Z9gv0k",
        "outputId": "2b3896c2-f8dc-41ef-e15d-ed5a4e14bc4d"
      },
      "execution_count": 13,
      "outputs": [
        {
          "output_type": "stream",
          "name": "stdout",
          "text": [
            "w\n",
            " \n"
          ]
        }
      ]
    },
    {
      "cell_type": "code",
      "source": [
        "# sval='hello'\n",
        "# conv=int(sval)\n",
        "# type(sval)\n",
        "# print(sval)\n",
        "\n",
        "sval='123'\n",
        "type(sval)\n",
        "conv=int(sval)\n",
        "type(conv)\n",
        "\n",
        "print(sval)\n",
        "print(conv)"
      ],
      "metadata": {
        "colab": {
          "base_uri": "https://localhost:8080/"
        },
        "id": "oGOQeGxqkDF0",
        "outputId": "fd2ce4d8-ea47-4528-c15e-23d68c9ec612"
      },
      "execution_count": 23,
      "outputs": [
        {
          "output_type": "stream",
          "name": "stdout",
          "text": [
            "123\n",
            "123\n"
          ]
        }
      ]
    },
    {
      "cell_type": "code",
      "source": [
        "def greet(lang):\n",
        "  if lang == 'es':\n",
        "    print('hola')\n",
        "  elif lang == 'fr':\n",
        "    print('bonjour')\n",
        "  else:\n",
        "    print('hello')\n",
        "\n",
        "\n",
        "greet('es')\n",
        "greet('fr')\n",
        "greet('en')\n",
        "greet(1)\n",
        "greet('ur')"
      ],
      "metadata": {
        "colab": {
          "base_uri": "https://localhost:8080/"
        },
        "id": "AxizJiDRlJl-",
        "outputId": "daed4e98-34d4-495c-c144-4bae41196d05"
      },
      "execution_count": 26,
      "outputs": [
        {
          "output_type": "stream",
          "name": "stdout",
          "text": [
            "hola\n",
            "bonjour\n",
            "hello\n",
            "hello\n",
            "hello\n"
          ]
        }
      ]
    },
    {
      "cell_type": "code",
      "source": [
        "def greet(lang):\n",
        "  if lang == 'es':\n",
        "    return 'hola'\n",
        "  elif lang == 'fr':\n",
        "    return 'bonjour'\n",
        "  else:\n",
        "    return 'hello'\n",
        "\n",
        "greet(\"es\")\n",
        "greet('fr')\n",
        "print(greet('en'),'nelson')\n",
        ""
      ],
      "metadata": {
        "colab": {
          "base_uri": "https://localhost:8080/"
        },
        "id": "Zth59OIMoCbh",
        "outputId": "c559df8f-d596-4573-b039-d2a6c0522647"
      },
      "execution_count": 41,
      "outputs": [
        {
          "output_type": "stream",
          "name": "stdout",
          "text": [
            "hello nelson\n"
          ]
        }
      ]
    },
    {
      "cell_type": "code",
      "source": [
        "inp =\"\"\n",
        "def max(inp):\n",
        "  blah\n",
        "  blah\n",
        "  blah\n",
        "  for x in y :\n",
        "    blah\n",
        "    blah\n",
        "  return 'w'\n",
        "\n",
        "big = max('hello' , 'world')\n",
        "type (inp)\n",
        "print(big)"
      ],
      "metadata": {
        "colab": {
          "base_uri": "https://localhost:8080/",
          "height": 216
        },
        "id": "8F_CaVvCqoK4",
        "outputId": "9d733bc4-e09f-4b26-d76d-f7e9aad08bad"
      },
      "execution_count": 50,
      "outputs": [
        {
          "output_type": "error",
          "ename": "TypeError",
          "evalue": "max() missing 1 required positional argument: 'inp'",
          "traceback": [
            "\u001b[0;31m---------------------------------------------------------------------------\u001b[0m",
            "\u001b[0;31mTypeError\u001b[0m                                 Traceback (most recent call last)",
            "\u001b[0;32m/tmp/ipython-input-192469990.py\u001b[0m in \u001b[0;36m<cell line: 0>\u001b[0;34m()\u001b[0m\n\u001b[1;32m      9\u001b[0m   \u001b[0;32mreturn\u001b[0m \u001b[0;34m'w'\u001b[0m\u001b[0;34m\u001b[0m\u001b[0;34m\u001b[0m\u001b[0m\n\u001b[1;32m     10\u001b[0m \u001b[0;34m\u001b[0m\u001b[0m\n\u001b[0;32m---> 11\u001b[0;31m \u001b[0mbig\u001b[0m \u001b[0;34m=\u001b[0m \u001b[0mmax\u001b[0m\u001b[0;34m(\u001b[0m\u001b[0;34m)\u001b[0m\u001b[0;34m\u001b[0m\u001b[0;34m\u001b[0m\u001b[0m\n\u001b[0m\u001b[1;32m     12\u001b[0m \u001b[0mtype\u001b[0m \u001b[0;34m(\u001b[0m\u001b[0minp\u001b[0m\u001b[0;34m)\u001b[0m\u001b[0;34m\u001b[0m\u001b[0;34m\u001b[0m\u001b[0m\n\u001b[1;32m     13\u001b[0m \u001b[0mprint\u001b[0m\u001b[0;34m(\u001b[0m\u001b[0mbig\u001b[0m\u001b[0;34m)\u001b[0m\u001b[0;34m\u001b[0m\u001b[0;34m\u001b[0m\u001b[0m\n",
            "\u001b[0;31mTypeError\u001b[0m: max() missing 1 required positional argument: 'inp'"
          ]
        }
      ]
    },
    {
      "cell_type": "code",
      "source": [
        "def addtwo(a,b):\n",
        "  added = a+b\n",
        "  return added\n",
        "\n",
        "x= addtwo(3,5)\n",
        "print(x)"
      ],
      "metadata": {
        "colab": {
          "base_uri": "https://localhost:8080/"
        },
        "id": "XY_XpaLQuFtv",
        "outputId": "6022bee0-1269-4f24-9549-91e47e329248"
      },
      "execution_count": 53,
      "outputs": [
        {
          "output_type": "stream",
          "name": "stdout",
          "text": [
            "8\n"
          ]
        }
      ]
    },
    {
      "cell_type": "code",
      "source": [
        "# infinte loop prog\n",
        "# n=5\n",
        "# while n>0:\n",
        "#   print('lather')\n",
        "#   print('rinse')\n",
        "# print('dry off')"
      ],
      "metadata": {
        "id": "CEhCXYr7uf_9"
      },
      "execution_count": null,
      "outputs": []
    },
    {
      "cell_type": "code",
      "source": [
        "while True:\n",
        "  line = input('> ')\n",
        "  if line == 'done':\n",
        "    break\n",
        "  print(line)\n",
        "print('done!')"
      ],
      "metadata": {
        "colab": {
          "base_uri": "https://localhost:8080/"
        },
        "id": "h7211Nja0Ve3",
        "outputId": "fed55778-9a54-4bc4-d49a-abdc361f6b74"
      },
      "execution_count": 55,
      "outputs": [
        {
          "output_type": "stream",
          "name": "stdout",
          "text": [
            "> imran\n",
            "imran\n",
            "> ali\n",
            "ali\n",
            "> irfan\n",
            "irfan\n",
            "> done\n",
            "done!\n"
          ]
        }
      ]
    },
    {
      "cell_type": "code",
      "source": [
        "while True:\n",
        "  line = input('> ')\n",
        "  if line[0] == '#':\n",
        "    continue\n",
        "  if line == 'done':\n",
        "    break\n",
        "  print(line)\n",
        "print('done!')"
      ],
      "metadata": {
        "colab": {
          "base_uri": "https://localhost:8080/"
        },
        "id": "lvY_jl6Fz2ie",
        "outputId": "14f48068-c255-4f6d-d801-8780e42c6f62"
      },
      "execution_count": 58,
      "outputs": [
        {
          "output_type": "stream",
          "name": "stdout",
          "text": [
            "> imran\n",
            "imran\n",
            "> ali\n",
            "ali\n",
            "> #\n",
            "> imran\n",
            "imran\n",
            "> abdullah\n",
            "abdullah\n",
            "> done\n",
            "done!\n"
          ]
        }
      ]
    },
    {
      "cell_type": "code",
      "source": [
        " for i in [5,4,3,2,1]:\n",
        "   print(i)\n",
        "print('blastoff!')"
      ],
      "metadata": {
        "colab": {
          "base_uri": "https://localhost:8080/"
        },
        "id": "vs8-mpaQ1TU9",
        "outputId": "db76b865-fefa-4f37-d5e2-ab8b1e9f413a"
      },
      "execution_count": 60,
      "outputs": [
        {
          "output_type": "stream",
          "name": "stdout",
          "text": [
            "5\n",
            "4\n",
            "3\n",
            "2\n",
            "1\n",
            "blastoff!\n"
          ]
        }
      ]
    },
    {
      "cell_type": "code",
      "source": [
        "# Rewrite your pay computation with time-and-a-half for overtime and create a function called computepay which takes two parameters ( hours and  rate).\n",
        "\n",
        "# Enter Hours: 45\n",
        "# Enter Rate: 10\n",
        "\n",
        "# Pay: 475.0\n",
        "\n",
        "\n",
        "def computepay(hr,srph):\n",
        "  shr=40\n",
        "  if hr>40:\n",
        "    xtrahr=hr-shr\n",
        "    pay = shr*srph+xtrahr*15\n",
        "    print('your payable wage includes overtime ',pay)\n",
        "    return pay\n",
        "\n",
        "  else:\n",
        "    pay=hr*srph\n",
        "    # print('your payable wage ',pay)\n",
        "    return pay\n",
        "\n",
        "def main():\n",
        "  hr = int(input('enter hours: '))\n",
        "  srph = int(input('enter rate: '))\n",
        "  # computepay(hr,srph)\n",
        "  # print(computepay(hr,srph))\n",
        "  return computepay(hr,srph)\n",
        "\n"
      ],
      "metadata": {
        "id": "dIhbCpQ02MCl"
      },
      "execution_count": 90,
      "outputs": []
    },
    {
      "cell_type": "code",
      "source": [
        "# Rewrite your pay computation with time-and-a-half for overtime and create a function called computepay which takes two parameters ( hours and  rate).\n",
        "\n",
        "# Enter Hours: 45\n",
        "# Enter Rate: 10\n",
        "\n",
        "# Pay: 475.0\n",
        "\n",
        "\n",
        "def computepay(hr,srph):\n",
        "  shr=40\n",
        "  if hr>40:\n",
        "    xtrahr=hr-shr\n",
        "    pay = shr*srph+xtrahr*15\n",
        "    print('your payable wage includes overtime ',pay)\n",
        "    return pay\n",
        "\n",
        "  else:\n",
        "    pay=hr*srph\n",
        "    # print('your payable wage ',pay)\n",
        "    return pay\n",
        "\n",
        "def main():\n",
        "  hr = int(input('enter hours: '))\n",
        "  srph = int(input('enter rate: '))\n",
        "  # computepay(hr,srph)\n",
        "  # print(computepay(hr,srph))\n",
        "  # return computepay(hr,srph)\n",
        "\n",
        "  print('Pay:', computepay(hr,srph))\n",
        "  return 0"
      ],
      "metadata": {
        "id": "RZGksr5o9Csj"
      },
      "execution_count": 95,
      "outputs": []
    },
    {
      "cell_type": "code",
      "source": [
        "# Rewrite your pay computation with time-and-a-half for overtime and create a function called computepay which takes two parameters ( hours and  rate).\n",
        "\n",
        "# Enter Hours: 45\n",
        "# Enter Rate: 10\n",
        "\n",
        "# Pay: 475.0\n",
        "\n",
        "\n",
        "def computepay(hr,srph):\n",
        "  shr=40\n",
        "  if hr>40:\n",
        "    xtrahr=hr-shr\n",
        "    pay = shr*srph+xtrahr*15\n",
        "    print('your payable wage includes overtime ',pay)\n",
        "    return pay\n",
        "\n",
        "  else:\n",
        "    pay=hr*srph\n",
        "    print('your payable wage is applicable to overtime ',pay)\n",
        "    return pay\n",
        "\n",
        "hr = int(input('enter hours: '))\n",
        "srph = int(input('enter rate: '))\n",
        "# computepay(hr,srph)\n",
        "# print(computepay(hr,srph))\n",
        "# return computepay(hr,srph)\n",
        "# pay1 = computepay(hr,srph)\n",
        "# print('Final Take home is as above', pay1, computepay(hr,srph))\n",
        "print('Final Take home is as ', computepay(hr,srph))"
      ],
      "metadata": {
        "colab": {
          "base_uri": "https://localhost:8080/"
        },
        "id": "5b2osaj--wiv",
        "outputId": "5e79b6cb-c9d1-4708-a05c-b1fdaec2cded"
      },
      "execution_count": 115,
      "outputs": [
        {
          "output_type": "stream",
          "name": "stdout",
          "text": [
            "enter hours: 34\n",
            "enter rate: 10\n",
            "your payable wage is applicable to overtime  340\n",
            "Final Take home is as  340\n"
          ]
        }
      ]
    },
    {
      "cell_type": "code",
      "source": [
        "things = [9, 41, 12, 3, 74, 15]\n",
        "thing1=things[0]\n",
        "thing2=things[0]\n",
        "for thing in things :\n",
        "  if thing>thing1:\n",
        "    thing1=thing\n",
        "  # elif things[1]>thing:\n",
        "  #   thing1=things[i]\n",
        "  # elif things[2]>thing:\n",
        "  #   thing1=things[i]\n",
        "  # elif things[3]>thing:\n",
        "  #   thing1=things[i]\n",
        "  # elif things[4]>thing:\n",
        "  #   thing1=things[i]\n",
        "  # else:\n",
        "  #   thing1=things[i]\n",
        "    print('greatest number = ',thing1)\n",
        "\n",
        "for thing in things:\n",
        "  if thing<thing2:\n",
        "    thing2=thing\n",
        "    print('smallest number = ',thing2)"
      ],
      "metadata": {
        "colab": {
          "base_uri": "https://localhost:8080/"
        },
        "collapsed": true,
        "id": "JIA93CQNCVFC",
        "outputId": "775037e8-1229-4558-ede5-97aeb8222abe"
      },
      "execution_count": 141,
      "outputs": [
        {
          "output_type": "stream",
          "name": "stdout",
          "text": [
            "greatest number =  41\n",
            "greatest number =  74\n",
            "smallest number =  3\n"
          ]
        }
      ]
    },
    {
      "cell_type": "code",
      "source": [
        "largest_so_far = -1\n",
        "print('Before', largest_so_far)\n",
        "for the_num in [9, 41, 12, 3, 74, 15] :\n",
        "   if the_num > largest_so_far :\n",
        "      largest_so_far = the_num\n",
        "   print(largest_so_far, the_num)\n",
        "\n",
        "print('After', largest_so_far)\n"
      ],
      "metadata": {
        "colab": {
          "base_uri": "https://localhost:8080/"
        },
        "id": "JaQwSVOmELvQ",
        "outputId": "37722ea1-3d6a-4b02-9e8b-01d278470378"
      },
      "execution_count": 118,
      "outputs": [
        {
          "output_type": "stream",
          "name": "stdout",
          "text": [
            "Before -1\n",
            "9 9\n",
            "41 41\n",
            "41 12\n",
            "41 3\n",
            "74 74\n",
            "74 15\n",
            "After 74\n"
          ]
        }
      ]
    },
    {
      "cell_type": "code",
      "source": [
        "count=0\n",
        "print('starting Value = ',count)\n",
        "for thing in [9,41,12,3,74,15]:\n",
        "  count=count+1\n",
        "  print(count,thing)\n",
        "print('Total item count = ',count)"
      ],
      "metadata": {
        "colab": {
          "base_uri": "https://localhost:8080/"
        },
        "id": "Z9ey9KSdI-mk",
        "outputId": "cc72a276-4029-4f50-e698-f0567d064382"
      },
      "execution_count": 142,
      "outputs": [
        {
          "output_type": "stream",
          "name": "stdout",
          "text": [
            "starting Value =  0\n",
            "1 9\n",
            "2 41\n",
            "3 12\n",
            "4 3\n",
            "5 74\n",
            "6 15\n",
            "Total item count =  6\n"
          ]
        }
      ]
    },
    {
      "cell_type": "code",
      "source": [
        "sum=0\n",
        "count=0\n",
        "print('starting Value = ',sum)\n",
        "for thing in [9,41,12,3,74,15]:\n",
        "  # print(thing)\n",
        "  count=count+1\n",
        "  sum=sum+thing\n",
        "  print(count,thing,sum)\n",
        "print('Commulative Sum = ',sum)\n",
        "print('Total item count = ',count)"
      ],
      "metadata": {
        "colab": {
          "base_uri": "https://localhost:8080/"
        },
        "id": "yAVKWP31Jewy",
        "outputId": "df2df553-5f4f-43ef-ce84-dfdc9f4c5bb1"
      },
      "execution_count": 146,
      "outputs": [
        {
          "output_type": "stream",
          "name": "stdout",
          "text": [
            "starting Value =  0\n",
            "1 9 9\n",
            "2 41 50\n",
            "3 12 62\n",
            "4 3 65\n",
            "5 74 139\n",
            "6 15 154\n",
            "Commulative Sum =  154\n",
            "Total item count =  6\n"
          ]
        }
      ]
    },
    {
      "cell_type": "code",
      "source": [
        "sum=0\n",
        "count=0\n",
        "print('starting Value = ',sum)\n",
        "for thing in [9,41,12,3,74,15]:\n",
        "  # print(thing)\n",
        "  count=count+1\n",
        "  sum=sum+thing\n",
        "  print(count,thing,sum)\n",
        "print('Commulative Sum = ',sum)\n",
        "print('Total item count = ',count)\n",
        "print('average = ',sum/count)"
      ],
      "metadata": {
        "colab": {
          "base_uri": "https://localhost:8080/"
        },
        "id": "zvYLvopyKxQX",
        "outputId": "45add7db-9cc7-4ade-bfd2-013853a6d77e"
      },
      "execution_count": 147,
      "outputs": [
        {
          "output_type": "stream",
          "name": "stdout",
          "text": [
            "starting Value =  0\n",
            "1 9 9\n",
            "2 41 50\n",
            "3 12 62\n",
            "4 3 65\n",
            "5 74 139\n",
            "6 15 154\n",
            "Commulative Sum =  154\n",
            "Total item count =  6\n",
            "average =  25.666666666666668\n"
          ]
        }
      ]
    },
    {
      "cell_type": "code",
      "source": [
        "print('Before')\n",
        "for value in [9, 41, 12, 3, 74, 15] :\n",
        "    if value > 20:\n",
        " \t    print('Large number',value)\n",
        "print('After')\n"
      ],
      "metadata": {
        "colab": {
          "base_uri": "https://localhost:8080/"
        },
        "id": "jjQVtDTqN2w0",
        "outputId": "eb7c5468-714d-45e6-c4dd-2432f2137b66"
      },
      "execution_count": 148,
      "outputs": [
        {
          "output_type": "stream",
          "name": "stdout",
          "text": [
            "Before\n",
            "Large number 41\n",
            "Large number 74\n",
            "After\n"
          ]
        }
      ]
    },
    {
      "cell_type": "code",
      "source": [
        "smallest = None\n",
        "print('Before')\n",
        "for value in [3, 41, 12, 9, 74, 15] :\n",
        "    if smallest is None :\n",
        "        smallest = value\n",
        "    elif value < smallest :\n",
        "        smallest = value\n",
        "    print(smallest, value)\n",
        "\n",
        "print('After', smallest)\n"
      ],
      "metadata": {
        "colab": {
          "base_uri": "https://localhost:8080/"
        },
        "id": "5OFBk-6fOswX",
        "outputId": "c26015f6-661d-4b5c-8b67-8a00a7c78173"
      },
      "execution_count": 149,
      "outputs": [
        {
          "output_type": "stream",
          "name": "stdout",
          "text": [
            "Before\n",
            "3 3\n",
            "3 41\n",
            "3 12\n",
            "3 9\n",
            "3 74\n",
            "3 15\n",
            "After 3\n"
          ]
        }
      ]
    }
  ]
}