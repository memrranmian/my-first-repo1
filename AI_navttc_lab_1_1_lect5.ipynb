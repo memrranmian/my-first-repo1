{
  "nbformat": 4,
  "nbformat_minor": 0,
  "metadata": {
    "colab": {
      "provenance": [],
      "toc_visible": true,
      "authorship_tag": "ABX9TyO1vhezcrddzgDslf+QXU3S",
      "include_colab_link": true
    },
    "kernelspec": {
      "name": "python3",
      "display_name": "Python 3"
    },
    "language_info": {
      "name": "python"
    }
  },
  "cells": [
    {
      "cell_type": "markdown",
      "metadata": {
        "id": "view-in-github",
        "colab_type": "text"
      },
      "source": [
        "<a href=\"https://colab.research.google.com/github/memrranmian/my-first-repo1/blob/main/AI_navttc_lab_1_1_lect5.ipynb\" target=\"_parent\"><img src=\"https://colab.research.google.com/assets/colab-badge.svg\" alt=\"Open In Colab\"/></a>"
      ]
    },
    {
      "cell_type": "code",
      "execution_count": 32,
      "metadata": {
        "colab": {
          "base_uri": "https://localhost:8080/"
        },
        "id": "lb4KlH7thyR6",
        "outputId": "dbe313ad-87dd-446e-96b9-e10db87f5533"
      },
      "outputs": [
        {
          "output_type": "stream",
          "name": "stdout",
          "text": [
            "hello world\n"
          ]
        }
      ],
      "source": [
        "print (\"hello world\")"
      ]
    },
    {
      "cell_type": "code",
      "source": [
        "3+2"
      ],
      "metadata": {
        "colab": {
          "base_uri": "https://localhost:8080/"
        },
        "id": "1aBbWR7vjHEq",
        "outputId": "cae6c890-8948-4558-e181-0e24f959f019"
      },
      "execution_count": 33,
      "outputs": [
        {
          "output_type": "execute_result",
          "data": {
            "text/plain": [
              "5"
            ]
          },
          "metadata": {},
          "execution_count": 33
        }
      ]
    },
    {
      "cell_type": "code",
      "source": [
        "\n",
        "a=10\n",
        "b=7\n",
        "print(a,\"//\",b,\"=\",a//b)\n"
      ],
      "metadata": {
        "colab": {
          "base_uri": "https://localhost:8080/"
        },
        "id": "QV4ExVgdkcsx",
        "outputId": "aa1d142a-7557-4bf3-80bb-d13a01a3ee19"
      },
      "execution_count": 43,
      "outputs": [
        {
          "output_type": "stream",
          "name": "stdout",
          "text": [
            "10 // 7 = 1\n"
          ]
        }
      ]
    },
    {
      "cell_type": "code",
      "source": [
        "weather=\"cloudy\"\n",
        "if weather==\"sunny\":\n",
        "  print(\"wear sunglasses\")\n",
        "elif weather==\"rainy\":\n",
        "  print(\"takne an umbrella\")\n",
        "else:\n",
        "  print(\"enjoy your day\")"
      ],
      "metadata": {
        "colab": {
          "base_uri": "https://localhost:8080/"
        },
        "id": "gp-ZlE4ZpNZK",
        "outputId": "e3682550-a4fe-4faf-8c27-ffdaa21548c8"
      },
      "execution_count": 46,
      "outputs": [
        {
          "output_type": "stream",
          "name": "stdout",
          "text": [
            "enjoy your day\n"
          ]
        }
      ]
    },
    {
      "cell_type": "code",
      "source": [
        "def divide(a,b):\n",
        " return a/b\n",
        "print(type(divide))\n",
        "print(type(a))"
      ],
      "metadata": {
        "colab": {
          "base_uri": "https://localhost:8080/"
        },
        "id": "ywObH92Lqwl4",
        "outputId": "d1a90e02-551e-4789-f3e9-7c66133adc7e"
      },
      "execution_count": 78,
      "outputs": [
        {
          "output_type": "stream",
          "name": "stdout",
          "text": [
            "<class 'function'>\n",
            "<class 'int'>\n"
          ]
        }
      ]
    },
    {
      "cell_type": "code",
      "source": [
        "num1=input('enter first number: ')\n",
        "num2=input('enter second number: ')\n",
        "sum1 = float(num1) + float(num2)\n",
        "sum2 = int(float(num1) + float(num2))\n",
        "print (\"the sum of {0} and {1} is {2}\".format(num1,num2,sum1))\n",
        "print (f\"the sum of {num1} and {num2} is {sum2}\")"
      ],
      "metadata": {
        "colab": {
          "base_uri": "https://localhost:8080/"
        },
        "id": "5YG3mGEpz0Sz",
        "outputId": "9e233322-4ad3-43cf-fbcb-4dba348dd68a"
      },
      "execution_count": 84,
      "outputs": [
        {
          "output_type": "stream",
          "name": "stdout",
          "text": [
            "enter first number: 5\n",
            "enter second number: 7\n",
            "the sum of 5 and 7 is 12.0\n",
            "the sum of 5 and 7 is 12\n"
          ]
        }
      ]
    },
    {
      "cell_type": "code",
      "source": [
        "num = 8\n",
        "num_sqrt = num**0.5\n",
        "print (\"the sq rt of %0.3f is %0.3f\"%(num,num_sqrt))\n",
        "print('The square root of %f is %f' % (num, num_sqrt))"
      ],
      "metadata": {
        "colab": {
          "base_uri": "https://localhost:8080/"
        },
        "id": "ccp56x4P2-YW",
        "outputId": "2e58df51-5c27-410b-8653-94bb27abfd04"
      },
      "execution_count": 88,
      "outputs": [
        {
          "output_type": "stream",
          "name": "stdout",
          "text": [
            "the sq rt of 8.000 is 2.828\n",
            "The square root of 8.000000 is 2.828427\n"
          ]
        }
      ]
    },
    {
      "cell_type": "code",
      "source": [
        "import cmath\n",
        "num=1+2j\n",
        "num_sqrt=cmath.sqrt(num)\n",
        "print (\"the sqrt of {0} is {1:0.3f}+{2:0.3f}j\".format(num,num_sqrt.real,num_sqrt.imag))\n",
        "print (f\"fhe sqrt of {num} is {num_sqrt}\")\n",
        "print (\"the sqrt of %s is %s\" % (num,num_sqrt))\n",
        "print(f\"the sqrt of {num} is {num_sqrt}\")\n",
        "print(f\"The sqrt of {num.real}+{num.imag:.0f}j is {num_sqrt.real:.2f}+{num_sqrt.imag:.2f}j\")"
      ],
      "metadata": {
        "colab": {
          "base_uri": "https://localhost:8080/"
        },
        "id": "09T7eZM944M9",
        "outputId": "c5d196c3-1d49-4374-cd5d-fec7dcb38e21"
      },
      "execution_count": 106,
      "outputs": [
        {
          "output_type": "stream",
          "name": "stdout",
          "text": [
            "the sqrt of (1+2j) is 1.272+0.786j\n",
            "fhe sqrt of (1+2j) is (1.272019649514069+0.7861513777574233j)\n",
            "the sqrt of (1+2j) is (1.272019649514069+0.7861513777574233j)\n",
            "the sqrt of (1+2j) is (1.272019649514069+0.7861513777574233j)\n",
            "The sqrt of 1.0+2j is 1.27+0.79j\n"
          ]
        }
      ]
    },
    {
      "cell_type": "markdown",
      "source": [
        "# New Section"
      ],
      "metadata": {
        "id": "rmJz82NxA6x7"
      }
    },
    {
      "cell_type": "code",
      "source": [
        "import cmath\n",
        "\n",
        "z = cmath.sqrt(1+2j)\n",
        "\n",
        "print(f\"Real = {z.real:.2f}, Imag = {z.imag:.2f}\")\n",
        "print(f\"Complex = {z}\")"
      ],
      "metadata": {
        "colab": {
          "base_uri": "https://localhost:8080/"
        },
        "id": "d3xgosV07azO",
        "outputId": "c2706c88-c881-40d7-eea3-86259da6b105"
      },
      "execution_count": 90,
      "outputs": [
        {
          "output_type": "stream",
          "name": "stdout",
          "text": [
            "Real = 1.27, Imag = 0.79\n",
            "Complex = (1.272019649514069+0.7861513777574233j)\n"
          ]
        }
      ]
    }
  ]
}