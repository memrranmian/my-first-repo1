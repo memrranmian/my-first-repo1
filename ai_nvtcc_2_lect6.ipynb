{
  "nbformat": 4,
  "nbformat_minor": 0,
  "metadata": {
    "colab": {
      "provenance": [],
      "authorship_tag": "ABX9TyMoAb6M4xa5fkZXX1fZCNVU",
      "include_colab_link": true
    },
    "kernelspec": {
      "name": "python3",
      "display_name": "Python 3"
    },
    "language_info": {
      "name": "python"
    }
  },
  "cells": [
    {
      "cell_type": "markdown",
      "metadata": {
        "id": "view-in-github",
        "colab_type": "text"
      },
      "source": [
        "<a href=\"https://colab.research.google.com/github/memrranmian/my-first-repo1/blob/main/ai_nvtcc_2_lect6.ipynb\" target=\"_parent\"><img src=\"https://colab.research.google.com/assets/colab-badge.svg\" alt=\"Open In Colab\"/></a>"
      ]
    },
    {
      "cell_type": "code",
      "execution_count": null,
      "metadata": {
        "colab": {
          "base_uri": "https://localhost:8080/"
        },
        "id": "TcqzmYiS79VA",
        "outputId": "e60c20bc-b221-4834-a0c3-afe6a507e2a1"
      },
      "outputs": [
        {
          "output_type": "stream",
          "name": "stdout",
          "text": [
            "1.5 + 6.3 = 7.8\n",
            "1.5 / 6.3 = 0.2380952380952381\n",
            "1.5 * 6.3 = 9.45\n",
            "1.5 ** 2 = 2.25\n",
            "1.5 ** 0.5 = 2.5099800796022267\n",
            "hello world! \n",
            " 1.5 \n",
            " 6.3\n"
          ]
        }
      ],
      "source": [
        "num1 =1.5\n",
        "num2=6.3\n",
        "\n",
        "sum = num1+num2\n",
        "divi = num1/num2\n",
        "mult = num1*num2\n",
        "exp = num1**2\n",
        "mod = num2 % num1\n",
        "sqrt = num2**(1/2)\n",
        "\n",
        "print(num1, \"+\", num2, \"=\", sum)\n",
        "print(num1, \"/\", num2, \"=\", divi)\n",
        "print(num1, \"*\", num2, \"=\", mult)\n",
        "print(num1, \"**\", 2, \"=\", exp)\n",
        "print(num1, \"**\", 1/2, \"=\", sqrt)\n",
        "\n",
        "print('hello world!','\\n',num1,'\\n',num2)\n",
        "\n",
        "\n"
      ]
    },
    {
      "cell_type": "code",
      "source": [
        "# num1 = float(input('Enter first num: '))\n",
        "# num2 = input('Enter second num: ')\n",
        "num1 = 2\n",
        "num2 = 5\n",
        "sum = float(num1) + float(num2)\n",
        "\n",
        "print('The sum of {0} and {1} is {2}'.format(num1, num2, sum))\n",
        "\n",
        "\n",
        "   \"\"\"\n",
        "    You can also use triple double quotes for multi-line comments.\n",
        "    This is often used for longer explanations or when temporarily\n",
        "    commenting out a large block of code during development.\n",
        "    \"\"\"\n",
        "\n"
      ],
      "metadata": {
        "colab": {
          "base_uri": "https://localhost:8080/",
          "height": 108
        },
        "id": "xxyLApiOCT4L",
        "outputId": "d62769e9-3208-4840-b961-6caa67f54f9c"
      },
      "execution_count": null,
      "outputs": [
        {
          "output_type": "error",
          "ename": "IndentationError",
          "evalue": "unexpected indent (ipython-input-4058582332.py, line 10)",
          "traceback": [
            "\u001b[0;36m  File \u001b[0;32m\"/tmp/ipython-input-4058582332.py\"\u001b[0;36m, line \u001b[0;32m10\u001b[0m\n\u001b[0;31m    \"\"\"\u001b[0m\n\u001b[0m    ^\u001b[0m\n\u001b[0;31mIndentationError\u001b[0m\u001b[0;31m:\u001b[0m unexpected indent\n"
          ]
        }
      ]
    },
    {
      "cell_type": "code",
      "source": [
        "i = 14\n",
        "if (i < 15):\n",
        "    print(\"i is smaller than 15\")\n",
        "    print(\"i'm in if Block\")\n",
        "else:\n",
        "    print(\"i is greater than 15\")\n",
        "    print(\"i'm in else Block\")\n",
        "print(\"i'm not in if and not in else Block\")"
      ],
      "metadata": {
        "colab": {
          "base_uri": "https://localhost:8080/"
        },
        "id": "nRl7NgVtPoE4",
        "outputId": "71adfe4b-6cb1-47e0-d0b6-4a2a1bbd0767"
      },
      "execution_count": 22,
      "outputs": [
        {
          "output_type": "stream",
          "name": "stdout",
          "text": [
            "i is smaller than 15\n",
            "i'm in if Block\n",
            "i'm not in if and not in else Block\n"
          ]
        }
      ]
    },
    {
      "cell_type": "code",
      "source": [
        "num = 8\n",
        "\n",
        "# To take the input from the user\n",
        "#num = float(input('Enter a number: '))\n",
        "\n",
        "num_sqrt = num ** 0.5\n",
        "print('The square root of %8.3f is %0.3f' % (num, num_sqrt))\n",
        "print('The square root of %.3f is %0.3f' % (num, num_sqrt))\n",
        "print('The square root of %0.3f is %0.3f' % (num, num_sqrt))\n",
        "print('The square root of 8.3f is %0.3f' % ( num_sqrt))\n",
        "print('The square root of {0} is {1}'.format(num, num_sqrt))\n",
        "print('The square root of {0} is {1:0.3f}'.format(num, num_sqrt))"
      ],
      "metadata": {
        "colab": {
          "base_uri": "https://localhost:8080/"
        },
        "id": "qPaO63TtQwB2",
        "outputId": "4effae15-361e-40bd-c9de-508d141f2c77"
      },
      "execution_count": 29,
      "outputs": [
        {
          "output_type": "stream",
          "name": "stdout",
          "text": [
            "The square root of    8.000 is 2.828\n",
            "The square root of 8.000 is 2.828\n",
            "The square root of 8.000 is 2.828\n",
            "The square root of 8.3f is 2.828\n",
            "The square root of 8 is 2.8284271247461903\n",
            "The square root of 8 is 2.828\n"
          ]
        }
      ]
    },
    {
      "cell_type": "code",
      "source": [
        "\n",
        "import math\n",
        "\n",
        "num = 8\n",
        "\n",
        "\n",
        "num_sqrt = math.sqrt(num)\n",
        "num_sqr = math.pow(num,2)\n",
        "print('The square root of %0.3f is %0.3f' % (num, num_sqrt))\n",
        "print('The square root of {0} is {1:0.3f}'.format(num, num_sqrt))\n",
        "print('The square root of {0} is {1:0.3f}'.format(num, num_sqr))"
      ],
      "metadata": {
        "colab": {
          "base_uri": "https://localhost:8080/"
        },
        "id": "fckXFZwLTEFT",
        "outputId": "4220cfc0-b635-4cb1-fc45-63f84b1e2945"
      },
      "execution_count": 39,
      "outputs": [
        {
          "output_type": "stream",
          "name": "stdout",
          "text": [
            "The square root of 8.000 is 2.828\n",
            "The square root of 8 is 2.828\n",
            "The square root of 8 is 64.000\n"
          ]
        }
      ]
    },
    {
      "cell_type": "code",
      "source": [
        "# Solve the quadratic equation ax**2 + bx + c = 0\n",
        "\n",
        "# import complex math module\n",
        "import cmath\n",
        "\n",
        "a = 1\n",
        "b = 5\n",
        "c = 6\n",
        "\n",
        "# calculate the discriminant\n",
        "d = (b**2) - (4*a*c)\n",
        "\n",
        "# find two solutions\n",
        "soll = (-b-cmath.sqrt(d))/(2*a)\n",
        "sol2 = (-b+cmath.sqrt(d))/(2*a)\n",
        "\n",
        "print('The solution are {0} and {1}'.format(soll,sol2))"
      ],
      "metadata": {
        "colab": {
          "base_uri": "https://localhost:8080/"
        },
        "id": "dpgqRm--YIqY",
        "outputId": "308dfeb1-65b2-4bba-87c8-521d9bf3e2b5"
      },
      "execution_count": 40,
      "outputs": [
        {
          "output_type": "stream",
          "name": "stdout",
          "text": [
            "The solution are (-3+0j) and (-2+0j)\n"
          ]
        }
      ]
    },
    {
      "cell_type": "code",
      "source": [
        "i = 10\n"
      ],
      "metadata": {
        "id": "f-D5YC0zi9Kz"
      },
      "execution_count": null,
      "outputs": []
    }
  ]
}